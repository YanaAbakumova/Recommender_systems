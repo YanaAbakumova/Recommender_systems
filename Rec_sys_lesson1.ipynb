{
 "cells": [
  {
   "cell_type": "markdown",
   "id": "84641e8a",
   "metadata": {},
   "source": [
    "**1) Приведите еще примеры метрик для оценки рекомендаций/ранжирования (можно взять из интернета, или ваши знания)**"
   ]
  },
  {
   "cell_type": "markdown",
   "id": "65dcb5e5",
   "metadata": {},
   "source": [
    "1) **F-score** (F1, F1_k)- взвешенное гармоническое среднее precision и recall\n",
    "\n",
    "2) **MAR_k** - средний recall по всем юзерам (доля рекомендованных товаров среди купленных)\n",
    "\n",
    "3) **MAE** - оценка точности рекомендаций, разница между реальной оценкой пользователя и предсказанной оценкой\n",
    "\n",
    "4) **RSME** - оценка точности рекомендаций, корень из квадрата разницы между реальной оценкой и предсказанной. Сильнее штрафует большие ошибки, чем MAE\n",
    "\n",
    "5) **AVERAGE RECIPROCAL HIT RANK** - вариация hit-rate, учитывает ранк выбранных рекомендаций)\n",
    "\n",
    "6) **Coverage** - процент возможных рекомендаций, которые система может предсказать, и насколько быстро новые товары появляются в рекомендациях\n",
    "\n",
    "7) **Diversity** - насколько широк ассортимент рекомендаций, выдаваемых системой\n",
    "\n",
    "8) **Churn** - насколько часто меняются рекомендации (например, после негативной оценки к-л товара пользователем)"
   ]
  },
  {
   "cell_type": "markdown",
   "id": "bf10c16e",
   "metadata": {},
   "source": [
    "**2) Доделать все функции, где стоит комментарий \"сделать дома\"**"
   ]
  },
  {
   "cell_type": "code",
   "execution_count": 1,
   "id": "627a92e8",
   "metadata": {},
   "outputs": [],
   "source": [
    "import numpy as np"
   ]
  },
  {
   "cell_type": "code",
   "execution_count": 2,
   "id": "21218a23",
   "metadata": {},
   "outputs": [],
   "source": [
    "def hit_rate_at_k(recommended_list, bought_list, k=5):\n",
    "    bought_list = np.array(bought_list)\n",
    "    recommended_list = np.array(recommended_list)[:k]\n",
    "    flags = np.isin(bought_list, recommended_list)\n",
    "    return (flags.sum() > 0) * 1"
   ]
  },
  {
   "cell_type": "code",
   "execution_count": 3,
   "id": "f9113c1d",
   "metadata": {},
   "outputs": [
    {
     "data": {
      "text/plain": [
       "0"
      ]
     },
     "execution_count": 3,
     "metadata": {},
     "output_type": "execute_result"
    }
   ],
   "source": [
    "recommended_list = [156, 1134, 27, 1543, 533, 32, 11, 43, 3345] #id товаров\n",
    "bought_list = [521, 32, 143, 991]\n",
    "hit_rate_at_k(recommended_list, bought_list)"
   ]
  },
  {
   "cell_type": "code",
   "execution_count": 4,
   "id": "52495e60",
   "metadata": {},
   "outputs": [],
   "source": [
    "def precision_at_k(recommended_list, bought_list, k=5):\n",
    "    bought_list = np.array(bought_list)\n",
    "    recommended_list = np.array(recommended_list)[:k]\n",
    "    \n",
    "    flags = np.isin(bought_list, recommended_list)\n",
    "    return flags.sum() / len(recommended_list)\n"
   ]
  },
  {
   "cell_type": "code",
   "execution_count": 5,
   "id": "c28fbf3e",
   "metadata": {},
   "outputs": [
    {
     "data": {
      "text/plain": [
       "0.3333333333333333"
      ]
     },
     "execution_count": 5,
     "metadata": {},
     "output_type": "execute_result"
    }
   ],
   "source": [
    "recommended_list = [143,156, 1134, 991, 27, 1543, 3345, 533, 11, 43] #id товаров\n",
    "bought_list = [521, 32, 143, 991]\n",
    "precision_at_k(recommended_list, bought_list, k=3)"
   ]
  },
  {
   "cell_type": "code",
   "execution_count": 11,
   "id": "274dd2a4",
   "metadata": {},
   "outputs": [],
   "source": [
    "def recall_at_k(recommended_list, bought_list, k=5):\n",
    "    bought_list = np.array(bought_list)\n",
    "    recommended_list = np.array(recommended_list)[:k]\n",
    "    \n",
    "    flags = np.isin(bought_list, recommended_list)\n",
    "    return flags.sum() / len(bought_list)\n",
    "\n",
    "\n",
    "def money_recall_at_k(recommended_list, bought_list, prices_recommended, prices_bought, k=5):\n",
    "    prices_bought = np.array(prices_bought)\n",
    "    recommend_list = np.array(recommended_list)[:k]\n",
    "    prices_recommended = np.array(prices_recommended)[:k]\n",
    "    \n",
    "    flags = np.isin(recommend_list, bought_list)\n",
    "    recall = np.dot(flags, prices_recommended).sum() / prices_bought.sum()\n",
    "    \n",
    "    return recall"
   ]
  },
  {
   "cell_type": "code",
   "execution_count": 12,
   "id": "eae28458",
   "metadata": {},
   "outputs": [
    {
     "data": {
      "text/plain": [
       "0.5"
      ]
     },
     "execution_count": 12,
     "metadata": {},
     "output_type": "execute_result"
    }
   ],
   "source": [
    "recommended_list = [143, 156, 1134, 991, 27, 1543, 3345, 533, 11, 43]\n",
    "bought_list = [521, 32, 143, 991]\n",
    "prices_recommended = [5, 2, 4, 11, 8, 10, 15, 7, 3, 9]\n",
    "prices_bought = [6, 8, 5, 11]\n",
    "recall_at_k(recommended_list, bought_list, k=5)"
   ]
  },
  {
   "cell_type": "code",
   "execution_count": 13,
   "id": "e45b1948",
   "metadata": {},
   "outputs": [
    {
     "data": {
      "text/plain": [
       "0.5333333333333333"
      ]
     },
     "execution_count": 13,
     "metadata": {},
     "output_type": "execute_result"
    }
   ],
   "source": [
    "money_recall_at_k(recommended_list, bought_list, prices_recommended, prices_bought, k=5)"
   ]
  },
  {
   "cell_type": "code",
   "execution_count": 14,
   "id": "ed2914c7",
   "metadata": {},
   "outputs": [],
   "source": [
    "def map_k(recommended_list, bought_list, k=5):\n",
    "    num_users = len(bought_list)\n",
    "    sum_ap_k = 0\n",
    "    for i in range(num_users):\n",
    "        b_list = np.array(bought_list[i])\n",
    "        r_list = np.array(recommended_list[i])[:k]\n",
    "        relevant_indexes = np.nonzero(np.isin(r_list, b_list))[0]\n",
    "        if len(relevant_indexes) == 0:\n",
    "            continue\n",
    "    \n",
    "        amount_relevant = len(relevant_indexes)\n",
    "        sum_ = sum([precision_at_k(r_list, b_list, k=index_relevant+1) for index_relevant in relevant_indexes])\n",
    "        sum_ap_k += sum_/amount_relevant\n",
    "    \n",
    "    return sum_ap_k / num_users"
   ]
  },
  {
   "cell_type": "code",
   "execution_count": 15,
   "id": "5a4f4825",
   "metadata": {},
   "outputs": [
    {
     "data": {
      "text/plain": [
       "0.3333333333333333"
      ]
     },
     "execution_count": 15,
     "metadata": {},
     "output_type": "execute_result"
    }
   ],
   "source": [
    "recommended_list_3_users = [[143, 156, 1134, 991, 27, 1543, 3345, 533, 11, 43], \n",
    "                    [1134, 533, 14, 4, 15, 1543, 1, 99, 27, 3345],\n",
    "                    [991, 3345, 27, 533, 43, 143, 1543, 156, 1134, 11]\n",
    "                    ]\n",
    "\n",
    "bought_list_3_users = [[521, 32, 143],  # юзер 1\n",
    "                       [143, 156, 991, 43, 11], # юзер 2\n",
    "                       [1,2]] # юзер 3\n",
    "map_k(recommended_list_3_users, bought_list_3_users, k=5)"
   ]
  },
  {
   "cell_type": "code",
   "execution_count": 16,
   "id": "fea6c4cc",
   "metadata": {},
   "outputs": [],
   "source": [
    "def ndcg_at_k(recommended_list, bought_list, k=5):\n",
    "    bought_list = np.array(bought_list)\n",
    "    recommended_list = np.array(recommended_list)[:k]\n",
    "    flags = np.isin(recommended_list, bought_list)\n",
    "    discount_i = np.append([1, 2], [np.log2(i) for i in range(3, k+1)])\n",
    "    dcg = 1/k * sum(flags / discount_i)\n",
    "    ideal_dcg = 1/k * sum(np.ones(len(flags)) / discount_i)\n",
    "    return dcg / ideal_dcg    "
   ]
  },
  {
   "cell_type": "code",
   "execution_count": 17,
   "id": "b5edeabc",
   "metadata": {},
   "outputs": [
    {
     "data": {
      "text/plain": [
       "0.489938890671454"
      ]
     },
     "execution_count": 17,
     "metadata": {},
     "output_type": "execute_result"
    }
   ],
   "source": [
    "recommended_list = [143, 156, 1134, 991, 27, 1543, 3345, 533, 11, 43]\n",
    "bought_list = [521, 32, 143, 991]\n",
    "ndcg_at_k(recommended_list, bought_list, k=5)"
   ]
  },
  {
   "cell_type": "code",
   "execution_count": 18,
   "id": "cfc90073",
   "metadata": {},
   "outputs": [],
   "source": [
    "def reciprocal_rank(recommended_list, bought_list, k=1):\n",
    "    num_users = len(bought_list)\n",
    "    k_u = []\n",
    "    for i in range(num_users):\n",
    "        b_list = np.array(bought_list[i])\n",
    "        r_list = np.array(recommended_list[i])[:k]\n",
    "        if sum(np.isin(r_list, b_list)) ==0:\n",
    "            k_u.append(0)\n",
    "            continue\n",
    "        k_u.append(1 / (np.nonzero(np.isin(r_list, b_list))[0][0] +1))\n",
    "    if k_u ==[]:\n",
    "        return 0\n",
    "    return np.array(k_u).mean()        "
   ]
  },
  {
   "cell_type": "code",
   "execution_count": 19,
   "id": "8457f859",
   "metadata": {},
   "outputs": [
    {
     "data": {
      "text/plain": [
       "0.3333333333333333"
      ]
     },
     "execution_count": 19,
     "metadata": {},
     "output_type": "execute_result"
    }
   ],
   "source": [
    "reciprocal_rank(recommended_list_3_users, bought_list_3_users, k=5)"
   ]
  },
  {
   "cell_type": "code",
   "execution_count": null,
   "id": "20d4fcd5",
   "metadata": {},
   "outputs": [],
   "source": []
  }
 ],
 "metadata": {
  "kernelspec": {
   "display_name": "Python 3",
   "language": "python",
   "name": "python3"
  },
  "language_info": {
   "codemirror_mode": {
    "name": "ipython",
    "version": 3
   },
   "file_extension": ".py",
   "mimetype": "text/x-python",
   "name": "python",
   "nbconvert_exporter": "python",
   "pygments_lexer": "ipython3",
   "version": "3.7.9"
  }
 },
 "nbformat": 4,
 "nbformat_minor": 5
}

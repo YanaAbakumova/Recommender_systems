{
 "cells": [
  {
   "cell_type": "markdown",
   "metadata": {},
   "source": [
    "# Course project\n"
   ]
  },
  {
   "cell_type": "markdown",
   "metadata": {},
   "source": [
    "- Целевая метрика precision@5\n",
    "\n",
    "\n",
    "**!! Мы не рассматриваем холодный старт для пользователя, все наши пользователя одинаковы во всех сетах, поэтому нужно позаботиться об их исключении из теста.**"
   ]
  },
  {
   "cell_type": "markdown",
   "metadata": {},
   "source": [
    "# Import libs"
   ]
  },
  {
   "cell_type": "code",
   "execution_count": 1,
   "metadata": {},
   "outputs": [],
   "source": [
    "import pandas as pd\n",
    "import numpy as np\n",
    "import matplotlib.pyplot as plt\n",
    "%matplotlib inline\n",
    "\n",
    "# Для работы с матрицами\n",
    "from scipy.sparse import csr_matrix\n",
    "\n",
    "# Матричная факторизация\n",
    "from implicit import als\n",
    "\n",
    "# Модель второго уровня\n",
    "from lightgbm import LGBMClassifier\n",
    "\n",
    "import os, sys\n",
    "module_path = os.path.abspath(os.path.join(os.pardir))\n",
    "if module_path not in sys.path:\n",
    "    sys.path.append(module_path)\n",
    "\n",
    "# Написанные нами функции\n",
    "from metrics import precision_at_k, recall_at_k\n",
    "from utils import prefilter_items\n",
    "from recommenders import MainRecommender\n",
    "\n",
    "\n",
    "pd.pandas.set_option('display.max_columns', None)\n",
    "import warnings\n",
    "warnings.simplefilter('ignore')"
   ]
  },
  {
   "cell_type": "markdown",
   "metadata": {},
   "source": [
    "## Read data"
   ]
  },
  {
   "cell_type": "code",
   "execution_count": 2,
   "metadata": {},
   "outputs": [],
   "source": [
    "PATH_DATA = \"C:/Users/yana/RS_course_project\""
   ]
  },
  {
   "cell_type": "code",
   "execution_count": 100,
   "metadata": {},
   "outputs": [],
   "source": [
    "data = pd.read_csv(os.path.join(PATH_DATA,'retail_train.csv'))\n",
    "item_features = pd.read_csv(os.path.join(PATH_DATA,'product.csv'))\n",
    "user_features = pd.read_csv(os.path.join(PATH_DATA,'hh_demographic.csv'))"
   ]
  },
  {
   "cell_type": "code",
   "execution_count": 101,
   "metadata": {},
   "outputs": [
    {
     "data": {
      "text/html": [
       "<div>\n",
       "<style scoped>\n",
       "    .dataframe tbody tr th:only-of-type {\n",
       "        vertical-align: middle;\n",
       "    }\n",
       "\n",
       "    .dataframe tbody tr th {\n",
       "        vertical-align: top;\n",
       "    }\n",
       "\n",
       "    .dataframe thead th {\n",
       "        text-align: right;\n",
       "    }\n",
       "</style>\n",
       "<table border=\"1\" class=\"dataframe\">\n",
       "  <thead>\n",
       "    <tr style=\"text-align: right;\">\n",
       "      <th></th>\n",
       "      <th>user_id</th>\n",
       "      <th>basket_id</th>\n",
       "      <th>day</th>\n",
       "      <th>item_id</th>\n",
       "      <th>quantity</th>\n",
       "      <th>sales_value</th>\n",
       "      <th>store_id</th>\n",
       "      <th>retail_disc</th>\n",
       "      <th>trans_time</th>\n",
       "      <th>week_no</th>\n",
       "      <th>coupon_disc</th>\n",
       "      <th>coupon_match_disc</th>\n",
       "    </tr>\n",
       "  </thead>\n",
       "  <tbody>\n",
       "    <tr>\n",
       "      <th>0</th>\n",
       "      <td>2375</td>\n",
       "      <td>26984851472</td>\n",
       "      <td>1</td>\n",
       "      <td>1004906</td>\n",
       "      <td>1</td>\n",
       "      <td>1.39</td>\n",
       "      <td>364</td>\n",
       "      <td>-0.6</td>\n",
       "      <td>1631</td>\n",
       "      <td>1</td>\n",
       "      <td>0.0</td>\n",
       "      <td>0.0</td>\n",
       "    </tr>\n",
       "    <tr>\n",
       "      <th>1</th>\n",
       "      <td>2375</td>\n",
       "      <td>26984851472</td>\n",
       "      <td>1</td>\n",
       "      <td>1033142</td>\n",
       "      <td>1</td>\n",
       "      <td>0.82</td>\n",
       "      <td>364</td>\n",
       "      <td>0.0</td>\n",
       "      <td>1631</td>\n",
       "      <td>1</td>\n",
       "      <td>0.0</td>\n",
       "      <td>0.0</td>\n",
       "    </tr>\n",
       "  </tbody>\n",
       "</table>\n",
       "</div>"
      ],
      "text/plain": [
       "   user_id    basket_id  day  item_id  quantity  sales_value  store_id  \\\n",
       "0     2375  26984851472    1  1004906         1         1.39       364   \n",
       "1     2375  26984851472    1  1033142         1         0.82       364   \n",
       "\n",
       "   retail_disc  trans_time  week_no  coupon_disc  coupon_match_disc  \n",
       "0         -0.6        1631        1          0.0                0.0  \n",
       "1          0.0        1631        1          0.0                0.0  "
      ]
     },
     "execution_count": 101,
     "metadata": {},
     "output_type": "execute_result"
    }
   ],
   "source": [
    "data.head(2)"
   ]
  },
  {
   "cell_type": "code",
   "execution_count": 102,
   "metadata": {},
   "outputs": [
    {
     "data": {
      "text/html": [
       "<div>\n",
       "<style scoped>\n",
       "    .dataframe tbody tr th:only-of-type {\n",
       "        vertical-align: middle;\n",
       "    }\n",
       "\n",
       "    .dataframe tbody tr th {\n",
       "        vertical-align: top;\n",
       "    }\n",
       "\n",
       "    .dataframe thead th {\n",
       "        text-align: right;\n",
       "    }\n",
       "</style>\n",
       "<table border=\"1\" class=\"dataframe\">\n",
       "  <thead>\n",
       "    <tr style=\"text-align: right;\">\n",
       "      <th></th>\n",
       "      <th>PRODUCT_ID</th>\n",
       "      <th>MANUFACTURER</th>\n",
       "      <th>DEPARTMENT</th>\n",
       "      <th>BRAND</th>\n",
       "      <th>COMMODITY_DESC</th>\n",
       "      <th>SUB_COMMODITY_DESC</th>\n",
       "      <th>CURR_SIZE_OF_PRODUCT</th>\n",
       "    </tr>\n",
       "  </thead>\n",
       "  <tbody>\n",
       "    <tr>\n",
       "      <th>0</th>\n",
       "      <td>25671</td>\n",
       "      <td>2</td>\n",
       "      <td>GROCERY</td>\n",
       "      <td>National</td>\n",
       "      <td>FRZN ICE</td>\n",
       "      <td>ICE - CRUSHED/CUBED</td>\n",
       "      <td>22 LB</td>\n",
       "    </tr>\n",
       "    <tr>\n",
       "      <th>1</th>\n",
       "      <td>26081</td>\n",
       "      <td>2</td>\n",
       "      <td>MISC. TRANS.</td>\n",
       "      <td>National</td>\n",
       "      <td>NO COMMODITY DESCRIPTION</td>\n",
       "      <td>NO SUBCOMMODITY DESCRIPTION</td>\n",
       "      <td></td>\n",
       "    </tr>\n",
       "  </tbody>\n",
       "</table>\n",
       "</div>"
      ],
      "text/plain": [
       "   PRODUCT_ID  MANUFACTURER    DEPARTMENT     BRAND            COMMODITY_DESC  \\\n",
       "0       25671             2       GROCERY  National                  FRZN ICE   \n",
       "1       26081             2  MISC. TRANS.  National  NO COMMODITY DESCRIPTION   \n",
       "\n",
       "            SUB_COMMODITY_DESC CURR_SIZE_OF_PRODUCT  \n",
       "0          ICE - CRUSHED/CUBED                22 LB  \n",
       "1  NO SUBCOMMODITY DESCRIPTION                       "
      ]
     },
     "execution_count": 102,
     "metadata": {},
     "output_type": "execute_result"
    }
   ],
   "source": [
    "item_features.head(2)"
   ]
  },
  {
   "cell_type": "code",
   "execution_count": 103,
   "metadata": {},
   "outputs": [
    {
     "data": {
      "text/html": [
       "<div>\n",
       "<style scoped>\n",
       "    .dataframe tbody tr th:only-of-type {\n",
       "        vertical-align: middle;\n",
       "    }\n",
       "\n",
       "    .dataframe tbody tr th {\n",
       "        vertical-align: top;\n",
       "    }\n",
       "\n",
       "    .dataframe thead th {\n",
       "        text-align: right;\n",
       "    }\n",
       "</style>\n",
       "<table border=\"1\" class=\"dataframe\">\n",
       "  <thead>\n",
       "    <tr style=\"text-align: right;\">\n",
       "      <th></th>\n",
       "      <th>AGE_DESC</th>\n",
       "      <th>MARITAL_STATUS_CODE</th>\n",
       "      <th>INCOME_DESC</th>\n",
       "      <th>HOMEOWNER_DESC</th>\n",
       "      <th>HH_COMP_DESC</th>\n",
       "      <th>HOUSEHOLD_SIZE_DESC</th>\n",
       "      <th>KID_CATEGORY_DESC</th>\n",
       "      <th>household_key</th>\n",
       "    </tr>\n",
       "  </thead>\n",
       "  <tbody>\n",
       "    <tr>\n",
       "      <th>0</th>\n",
       "      <td>65+</td>\n",
       "      <td>A</td>\n",
       "      <td>35-49K</td>\n",
       "      <td>Homeowner</td>\n",
       "      <td>2 Adults No Kids</td>\n",
       "      <td>2</td>\n",
       "      <td>None/Unknown</td>\n",
       "      <td>1</td>\n",
       "    </tr>\n",
       "    <tr>\n",
       "      <th>1</th>\n",
       "      <td>45-54</td>\n",
       "      <td>A</td>\n",
       "      <td>50-74K</td>\n",
       "      <td>Homeowner</td>\n",
       "      <td>2 Adults No Kids</td>\n",
       "      <td>2</td>\n",
       "      <td>None/Unknown</td>\n",
       "      <td>7</td>\n",
       "    </tr>\n",
       "  </tbody>\n",
       "</table>\n",
       "</div>"
      ],
      "text/plain": [
       "  AGE_DESC MARITAL_STATUS_CODE INCOME_DESC HOMEOWNER_DESC      HH_COMP_DESC  \\\n",
       "0      65+                   A      35-49K      Homeowner  2 Adults No Kids   \n",
       "1    45-54                   A      50-74K      Homeowner  2 Adults No Kids   \n",
       "\n",
       "  HOUSEHOLD_SIZE_DESC KID_CATEGORY_DESC  household_key  \n",
       "0                   2      None/Unknown              1  \n",
       "1                   2      None/Unknown              7  "
      ]
     },
     "execution_count": 103,
     "metadata": {},
     "output_type": "execute_result"
    }
   ],
   "source": [
    "user_features.head(2)"
   ]
  },
  {
   "cell_type": "markdown",
   "metadata": {},
   "source": [
    "# Set global const"
   ]
  },
  {
   "cell_type": "code",
   "execution_count": 104,
   "metadata": {},
   "outputs": [],
   "source": [
    "ITEM_COL = 'item_id'\n",
    "USER_COL = 'user_id'\n",
    "ACTUAL_COL = 'actual'\n",
    "\n",
    "\n",
    "N_PREDICT = 30"
   ]
  },
  {
   "cell_type": "code",
   "execution_count": 105,
   "metadata": {},
   "outputs": [],
   "source": [
    "# column processing\n",
    "item_features.columns = [col.lower() for col in item_features.columns]\n",
    "user_features.columns = [col.lower() for col in user_features.columns]\n",
    "\n",
    "item_features.rename(columns={'product_id': ITEM_COL}, inplace=True)\n",
    "user_features.rename(columns={'household_key': USER_COL }, inplace=True)"
   ]
  },
  {
   "cell_type": "markdown",
   "metadata": {},
   "source": [
    "# Split dataset for train & eval"
   ]
  },
  {
   "cell_type": "code",
   "execution_count": 106,
   "metadata": {},
   "outputs": [],
   "source": [
    "# последний месяц оставляем для валидации\n",
    "val_size_weeks = 4\n",
    "\n",
    "# для обучения модели 1го уровня\n",
    "data_train_matcher = data[data['week_no'] < data['week_no'].max() - val_size_weeks]\n",
    "# для валидации модели 1го уровня\n",
    "data_val_matcher = data[data['week_no'] >= data['week_no'].max() - val_size_weeks]\n",
    "# для обученя модели 2го уровня\n",
    "data_train_ranker = data_val_matcher.copy()"
   ]
  },
  {
   "cell_type": "code",
   "execution_count": 107,
   "metadata": {},
   "outputs": [],
   "source": [
    "def print_stats_data(df_data, name_df):\n",
    "    print(name_df)\n",
    "    print(f\"Shape: {df_data.shape} Users: {df_data[USER_COL].nunique()} Items: {df_data[ITEM_COL].nunique()}\")"
   ]
  },
  {
   "cell_type": "code",
   "execution_count": 108,
   "metadata": {
    "scrolled": true
   },
   "outputs": [
    {
     "name": "stdout",
     "output_type": "stream",
     "text": [
      "full dataset\n",
      "Shape: (2396804, 12) Users: 2499 Items: 89051\n",
      "train_matcher\n",
      "Shape: (2251517, 12) Users: 2499 Items: 86343\n",
      "val_matcher\n",
      "Shape: (145287, 12) Users: 2101 Items: 26561\n",
      "train_ranker\n",
      "Shape: (145287, 12) Users: 2101 Items: 26561\n"
     ]
    }
   ],
   "source": [
    "print_stats_data(data,'full dataset')\n",
    "print_stats_data(data_train_matcher,'train_matcher')\n",
    "print_stats_data(data_val_matcher,'val_matcher')\n",
    "print_stats_data(data_train_ranker,'train_ranker')"
   ]
  },
  {
   "cell_type": "markdown",
   "metadata": {},
   "source": [
    "# Prefilter items"
   ]
  },
  {
   "cell_type": "markdown",
   "metadata": {},
   "source": [
    "Критерии фильтрации:\n",
    "\n",
    "- 83% продаж составляет 1 товар, 98% продаж - всего 10 товаров из 89051"
   ]
  },
  {
   "cell_type": "code",
   "execution_count": 12,
   "metadata": {},
   "outputs": [
    {
     "data": {
      "text/html": [
       "<div>\n",
       "<style scoped>\n",
       "    .dataframe tbody tr th:only-of-type {\n",
       "        vertical-align: middle;\n",
       "    }\n",
       "\n",
       "    .dataframe tbody tr th {\n",
       "        vertical-align: top;\n",
       "    }\n",
       "\n",
       "    .dataframe thead th {\n",
       "        text-align: right;\n",
       "    }\n",
       "</style>\n",
       "<table border=\"1\" class=\"dataframe\">\n",
       "  <thead>\n",
       "    <tr style=\"text-align: right;\">\n",
       "      <th></th>\n",
       "      <th>item_id</th>\n",
       "      <th>n_sold</th>\n",
       "    </tr>\n",
       "  </thead>\n",
       "  <tbody>\n",
       "    <tr>\n",
       "      <th>44111</th>\n",
       "      <td>1404121</td>\n",
       "      <td>0.683818</td>\n",
       "    </tr>\n",
       "    <tr>\n",
       "      <th>56341</th>\n",
       "      <td>6544236</td>\n",
       "      <td>1.071972</td>\n",
       "    </tr>\n",
       "    <tr>\n",
       "      <th>56228</th>\n",
       "      <td>6534166</td>\n",
       "      <td>5.381320</td>\n",
       "    </tr>\n",
       "    <tr>\n",
       "      <th>56193</th>\n",
       "      <td>6533889</td>\n",
       "      <td>7.029342</td>\n",
       "    </tr>\n",
       "    <tr>\n",
       "      <th>56233</th>\n",
       "      <td>6534178</td>\n",
       "      <td>83.000361</td>\n",
       "    </tr>\n",
       "  </tbody>\n",
       "</table>\n",
       "</div>"
      ],
      "text/plain": [
       "       item_id     n_sold\n",
       "44111  1404121   0.683818\n",
       "56341  6544236   1.071972\n",
       "56228  6534166   5.381320\n",
       "56193  6533889   7.029342\n",
       "56233  6534178  83.000361"
      ]
     },
     "execution_count": 12,
     "metadata": {},
     "output_type": "execute_result"
    }
   ],
   "source": [
    "popular_items = data.groupby('item_id')['quantity'].sum().rename('n_sold').reset_index()\n",
    "popular_items['n_sold'] = popular_items['n_sold']/popular_items['n_sold'].sum()*100\n",
    "popular_items = popular_items.sort_values('n_sold')\n",
    "popular_items.tail(5)"
   ]
  },
  {
   "cell_type": "markdown",
   "metadata": {},
   "source": [
    "- топ-10 самых продаваемых товаров покупаются наибольшим числом разных пользователей (корреляция 93.9%). Но с расширением ассортимента корреляция падает."
   ]
  },
  {
   "cell_type": "code",
   "execution_count": 13,
   "metadata": {},
   "outputs": [
    {
     "data": {
      "text/html": [
       "<div>\n",
       "<style scoped>\n",
       "    .dataframe tbody tr th:only-of-type {\n",
       "        vertical-align: middle;\n",
       "    }\n",
       "\n",
       "    .dataframe tbody tr th {\n",
       "        vertical-align: top;\n",
       "    }\n",
       "\n",
       "    .dataframe thead th {\n",
       "        text-align: right;\n",
       "    }\n",
       "</style>\n",
       "<table border=\"1\" class=\"dataframe\">\n",
       "  <thead>\n",
       "    <tr style=\"text-align: right;\">\n",
       "      <th></th>\n",
       "      <th>item_id</th>\n",
       "      <th>unique_users</th>\n",
       "    </tr>\n",
       "  </thead>\n",
       "  <tbody>\n",
       "    <tr>\n",
       "      <th>8056</th>\n",
       "      <td>840361</td>\n",
       "      <td>0.100352</td>\n",
       "    </tr>\n",
       "    <tr>\n",
       "      <th>29195</th>\n",
       "      <td>1029743</td>\n",
       "      <td>0.102330</td>\n",
       "    </tr>\n",
       "    <tr>\n",
       "      <th>25333</th>\n",
       "      <td>995242</td>\n",
       "      <td>0.108112</td>\n",
       "    </tr>\n",
       "    <tr>\n",
       "      <th>23846</th>\n",
       "      <td>981760</td>\n",
       "      <td>0.120514</td>\n",
       "    </tr>\n",
       "    <tr>\n",
       "      <th>35054</th>\n",
       "      <td>1082185</td>\n",
       "      <td>0.155131</td>\n",
       "    </tr>\n",
       "  </tbody>\n",
       "</table>\n",
       "</div>"
      ],
      "text/plain": [
       "       item_id  unique_users\n",
       "8056    840361      0.100352\n",
       "29195  1029743      0.102330\n",
       "25333   995242      0.108112\n",
       "23846   981760      0.120514\n",
       "35054  1082185      0.155131"
      ]
     },
     "execution_count": 13,
     "metadata": {},
     "output_type": "execute_result"
    }
   ],
   "source": [
    "unique_users = data.groupby('item_id')['user_id'].nunique().rename('unique_users').reset_index()\n",
    "unique_users['unique_users'] = unique_users['unique_users'] /unique_users['unique_users'].sum()*100\n",
    "unique_users =unique_users.sort_values('unique_users')\n",
    "unique_users.tail(5)"
   ]
  },
  {
   "cell_type": "code",
   "execution_count": 14,
   "metadata": {},
   "outputs": [
    {
     "name": "stdout",
     "output_type": "stream",
     "text": [
      "0.167099848329318\n",
      "0.2901786425984415\n",
      "0.48510541043281313\n",
      "0.9389651031592855\n"
     ]
    }
   ],
   "source": [
    "print(np.corrcoef(unique_users['unique_users'], popular_items['n_sold'])[0][1])\n",
    "print(np.corrcoef(unique_users['unique_users'].tail(1000), popular_items['n_sold'].tail(1000))[0][1])\n",
    "print(np.corrcoef(unique_users['unique_users'].tail(100), popular_items['n_sold'].tail(100))[0][1])\n",
    "print(np.corrcoef(unique_users['unique_users'].tail(10), popular_items['n_sold'].tail(10))[0][1])"
   ]
  },
  {
   "cell_type": "markdown",
   "metadata": {},
   "source": [
    " - средний пользователь покупает широкий ассортимент товаров (427), часто похожих друг на друга, но пользователей много, у них различные предпочтения, поэтому если выбрать небольшое кол-во топовых товаров для рекомендаций, отразить предпочтения большинства пользователей не получится"
   ]
  },
  {
   "cell_type": "code",
   "execution_count": 15,
   "metadata": {},
   "outputs": [
    {
     "data": {
      "text/plain": [
       "427.0"
      ]
     },
     "execution_count": 15,
     "metadata": {},
     "output_type": "execute_result"
    }
   ],
   "source": [
    "data.groupby('user_id')['item_id'].nunique().median()"
   ]
  },
  {
   "cell_type": "markdown",
   "metadata": {},
   "source": [
    "Возьмем 15% самых популярных товаров за последний год - 10339 наименований "
   ]
  },
  {
   "cell_type": "code",
   "execution_count": 109,
   "metadata": {
    "scrolled": false
   },
   "outputs": [
    {
     "name": "stdout",
     "output_type": "stream",
     "text": [
      "Decreased # items from 86343 to 10339\n"
     ]
    }
   ],
   "source": [
    "n_items_before = data_train_matcher['item_id'].nunique()\n",
    "data_train_matcher = prefilter_items(data_train_matcher, 0.85)\n",
    "n_items_after = data_train_matcher['item_id'].nunique()\n",
    "\n",
    "print('Decreased # items from {} to {}'.format(n_items_before, n_items_after))"
   ]
  },
  {
   "cell_type": "markdown",
   "metadata": {},
   "source": [
    "# Make cold-start to warm-start"
   ]
  },
  {
   "cell_type": "code",
   "execution_count": 110,
   "metadata": {},
   "outputs": [
    {
     "name": "stdout",
     "output_type": "stream",
     "text": [
      "train_matcher\n",
      "Shape: (2251517, 12) Users: 2499 Items: 10339\n",
      "train_ranker\n",
      "Shape: (145287, 12) Users: 2101 Items: 26561\n",
      "val_matcher\n",
      "Shape: (145287, 12) Users: 2101 Items: 26561\n"
     ]
    }
   ],
   "source": [
    "common_users = data_train_matcher.user_id.values\n",
    "data_val_matcher = data_val_matcher[data_val_matcher.user_id.isin(common_users)]\n",
    "data_train_ranker = data_train_ranker[data_train_ranker.user_id.isin(common_users)]\n",
    "\n",
    "print_stats_data(data_train_matcher,'train_matcher')\n",
    "print_stats_data(data_train_ranker,'train_ranker')\n",
    "print_stats_data(data_val_matcher,'val_matcher')"
   ]
  },
  {
   "cell_type": "markdown",
   "metadata": {},
   "source": [
    "# Init/train recommender"
   ]
  },
  {
   "cell_type": "code",
   "execution_count": 18,
   "metadata": {},
   "outputs": [
    {
     "name": "stderr",
     "output_type": "stream",
     "text": [
      "WARNING:root:OpenBLAS detected. Its highly recommend to set the environment variable 'export OPENBLAS_NUM_THREADS=1' to disable its internal multithreading\n"
     ]
    },
    {
     "data": {
      "application/vnd.jupyter.widget-view+json": {
       "model_id": "977c247c20f447d9aada6e899e6fa580",
       "version_major": 2,
       "version_minor": 0
      },
      "text/plain": [
       "  0%|          | 0/8 [00:00<?, ?it/s]"
      ]
     },
     "metadata": {},
     "output_type": "display_data"
    },
    {
     "data": {
      "application/vnd.jupyter.widget-view+json": {
       "model_id": "5b52090ca4b943f0844405ed2feac0cb",
       "version_major": 2,
       "version_minor": 0
      },
      "text/plain": [
       "  0%|          | 0/10339 [00:00<?, ?it/s]"
      ]
     },
     "metadata": {},
     "output_type": "display_data"
    },
    {
     "data": {
      "application/vnd.jupyter.widget-view+json": {
       "model_id": "2743751f9d21408697a7a77f2d3789c0",
       "version_major": 2,
       "version_minor": 0
      },
      "text/plain": [
       "  0%|          | 0/10339 [00:00<?, ?it/s]"
      ]
     },
     "metadata": {},
     "output_type": "display_data"
    },
    {
     "data": {
      "application/vnd.jupyter.widget-view+json": {
       "model_id": "0d6ec164f1e345c080f21d937b5dd310",
       "version_major": 2,
       "version_minor": 0
      },
      "text/plain": [
       "  0%|          | 0/10339 [00:00<?, ?it/s]"
      ]
     },
     "metadata": {},
     "output_type": "display_data"
    },
    {
     "data": {
      "application/vnd.jupyter.widget-view+json": {
       "model_id": "2584deef8cca41739abacdf97383f76e",
       "version_major": 2,
       "version_minor": 0
      },
      "text/plain": [
       "  0%|          | 0/10339 [00:00<?, ?it/s]"
      ]
     },
     "metadata": {},
     "output_type": "display_data"
    }
   ],
   "source": [
    "recommender = MainRecommender(data_train_matcher)"
   ]
  },
  {
   "cell_type": "code",
   "execution_count": 111,
   "metadata": {
    "scrolled": true
   },
   "outputs": [
    {
     "data": {
      "text/html": [
       "<div>\n",
       "<style scoped>\n",
       "    .dataframe tbody tr th:only-of-type {\n",
       "        vertical-align: middle;\n",
       "    }\n",
       "\n",
       "    .dataframe tbody tr th {\n",
       "        vertical-align: top;\n",
       "    }\n",
       "\n",
       "    .dataframe thead th {\n",
       "        text-align: right;\n",
       "    }\n",
       "</style>\n",
       "<table border=\"1\" class=\"dataframe\">\n",
       "  <thead>\n",
       "    <tr style=\"text-align: right;\">\n",
       "      <th></th>\n",
       "      <th>user_id</th>\n",
       "      <th>actual</th>\n",
       "    </tr>\n",
       "  </thead>\n",
       "  <tbody>\n",
       "    <tr>\n",
       "      <th>0</th>\n",
       "      <td>1</td>\n",
       "      <td>[829563, 830156, 832990, 840361, 856942, 87157...</td>\n",
       "    </tr>\n",
       "    <tr>\n",
       "      <th>1</th>\n",
       "      <td>3</td>\n",
       "      <td>[835476, 851057, 872021, 878302, 879948, 90963...</td>\n",
       "    </tr>\n",
       "  </tbody>\n",
       "</table>\n",
       "</div>"
      ],
      "text/plain": [
       "   user_id                                             actual\n",
       "0        1  [829563, 830156, 832990, 840361, 856942, 87157...\n",
       "1        3  [835476, 851057, 872021, 878302, 879948, 90963..."
      ]
     },
     "execution_count": 111,
     "metadata": {},
     "output_type": "execute_result"
    }
   ],
   "source": [
    "# покупки пользователей в валидационный период\n",
    "valid_eval_matcher = data_val_matcher.groupby(USER_COL)[ITEM_COL].unique().reset_index()\n",
    "valid_eval_matcher.columns=[USER_COL, ACTUAL_COL]\n",
    "valid_eval_matcher.head(2)"
   ]
  },
  {
   "cell_type": "code",
   "execution_count": 20,
   "metadata": {},
   "outputs": [
    {
     "data": {
      "application/vnd.jupyter.widget-view+json": {
       "model_id": "16399fbd2c964f4a9a67626651224ff6",
       "version_major": 2,
       "version_minor": 0
      },
      "text/plain": [
       "  0%|          | 0/10339 [00:00<?, ?it/s]"
      ]
     },
     "metadata": {},
     "output_type": "display_data"
    },
    {
     "data": {
      "application/vnd.jupyter.widget-view+json": {
       "model_id": "35e2582f459446aca580d2a79fd68ab3",
       "version_major": 2,
       "version_minor": 0
      },
      "text/plain": [
       "  0%|          | 0/10339 [00:00<?, ?it/s]"
      ]
     },
     "metadata": {},
     "output_type": "display_data"
    },
    {
     "data": {
      "application/vnd.jupyter.widget-view+json": {
       "model_id": "2140cda7591f4e9fb604de391be59942",
       "version_major": 2,
       "version_minor": 0
      },
      "text/plain": [
       "  0%|          | 0/10339 [00:00<?, ?it/s]"
      ]
     },
     "metadata": {},
     "output_type": "display_data"
    },
    {
     "data": {
      "application/vnd.jupyter.widget-view+json": {
       "model_id": "364b71fbfffb48638fda6dc84de39e87",
       "version_major": 2,
       "version_minor": 0
      },
      "text/plain": [
       "  0%|          | 0/10339 [00:00<?, ?it/s]"
      ]
     },
     "metadata": {},
     "output_type": "display_data"
    },
    {
     "data": {
      "application/vnd.jupyter.widget-view+json": {
       "model_id": "f38ccd3c413c42e4b6b0e7a03178d282",
       "version_major": 2,
       "version_minor": 0
      },
      "text/plain": [
       "  0%|          | 0/10339 [00:00<?, ?it/s]"
      ]
     },
     "metadata": {},
     "output_type": "display_data"
    },
    {
     "data": {
      "application/vnd.jupyter.widget-view+json": {
       "model_id": "6f526033f3a84a248c914ee927eccb72",
       "version_major": 2,
       "version_minor": 0
      },
      "text/plain": [
       "  0%|          | 0/10339 [00:00<?, ?it/s]"
      ]
     },
     "metadata": {},
     "output_type": "display_data"
    },
    {
     "data": {
      "application/vnd.jupyter.widget-view+json": {
       "model_id": "fe06400905924579b3f5fb14721bdafd",
       "version_major": 2,
       "version_minor": 0
      },
      "text/plain": [
       "  0%|          | 0/10339 [00:00<?, ?it/s]"
      ]
     },
     "metadata": {},
     "output_type": "display_data"
    },
    {
     "data": {
      "application/vnd.jupyter.widget-view+json": {
       "model_id": "bc26cf4a140a485195bd963dbf80cc1c",
       "version_major": 2,
       "version_minor": 0
      },
      "text/plain": [
       "  0%|          | 0/10339 [00:00<?, ?it/s]"
      ]
     },
     "metadata": {},
     "output_type": "display_data"
    },
    {
     "data": {
      "application/vnd.jupyter.widget-view+json": {
       "model_id": "01cf59386b5f473089067d68670118c6",
       "version_major": 2,
       "version_minor": 0
      },
      "text/plain": [
       "  0%|          | 0/10339 [00:00<?, ?it/s]"
      ]
     },
     "metadata": {},
     "output_type": "display_data"
    },
    {
     "data": {
      "application/vnd.jupyter.widget-view+json": {
       "model_id": "053cb42dd243493a8332c6d3dd6452e5",
       "version_major": 2,
       "version_minor": 0
      },
      "text/plain": [
       "  0%|          | 0/10339 [00:00<?, ?it/s]"
      ]
     },
     "metadata": {},
     "output_type": "display_data"
    },
    {
     "data": {
      "application/vnd.jupyter.widget-view+json": {
       "model_id": "7b0ac7f43e624b86b772eaeae9835bdb",
       "version_major": 2,
       "version_minor": 0
      },
      "text/plain": [
       "  0%|          | 0/10339 [00:00<?, ?it/s]"
      ]
     },
     "metadata": {},
     "output_type": "display_data"
    },
    {
     "data": {
      "application/vnd.jupyter.widget-view+json": {
       "model_id": "47e5278c2e834c51b131011f664e788e",
       "version_major": 2,
       "version_minor": 0
      },
      "text/plain": [
       "  0%|          | 0/10339 [00:00<?, ?it/s]"
      ]
     },
     "metadata": {},
     "output_type": "display_data"
    },
    {
     "data": {
      "application/vnd.jupyter.widget-view+json": {
       "model_id": "b94d9659d45342bda2cd2ea71e6d1268",
       "version_major": 2,
       "version_minor": 0
      },
      "text/plain": [
       "  0%|          | 0/10339 [00:00<?, ?it/s]"
      ]
     },
     "metadata": {},
     "output_type": "display_data"
    },
    {
     "data": {
      "application/vnd.jupyter.widget-view+json": {
       "model_id": "83fec0ffb9de498cad184d33285e4a58",
       "version_major": 2,
       "version_minor": 0
      },
      "text/plain": [
       "  0%|          | 0/10339 [00:00<?, ?it/s]"
      ]
     },
     "metadata": {},
     "output_type": "display_data"
    },
    {
     "data": {
      "application/vnd.jupyter.widget-view+json": {
       "model_id": "9e777aaeb7364af6b2f28059e7a661eb",
       "version_major": 2,
       "version_minor": 0
      },
      "text/plain": [
       "  0%|          | 0/10339 [00:00<?, ?it/s]"
      ]
     },
     "metadata": {},
     "output_type": "display_data"
    },
    {
     "data": {
      "application/vnd.jupyter.widget-view+json": {
       "model_id": "0acec222909f4f0492f2636d7b87dab5",
       "version_major": 2,
       "version_minor": 0
      },
      "text/plain": [
       "  0%|          | 0/10339 [00:00<?, ?it/s]"
      ]
     },
     "metadata": {},
     "output_type": "display_data"
    },
    {
     "data": {
      "application/vnd.jupyter.widget-view+json": {
       "model_id": "a586c5e82ae74f5b96f9fa1838d28b36",
       "version_major": 2,
       "version_minor": 0
      },
      "text/plain": [
       "  0%|          | 0/10339 [00:00<?, ?it/s]"
      ]
     },
     "metadata": {},
     "output_type": "display_data"
    },
    {
     "data": {
      "application/vnd.jupyter.widget-view+json": {
       "model_id": "65a0321cff924366b30dd9f950661fd9",
       "version_major": 2,
       "version_minor": 0
      },
      "text/plain": [
       "  0%|          | 0/10339 [00:00<?, ?it/s]"
      ]
     },
     "metadata": {},
     "output_type": "display_data"
    },
    {
     "data": {
      "application/vnd.jupyter.widget-view+json": {
       "model_id": "93b389b0a1784eaa9f48ee5365601310",
       "version_major": 2,
       "version_minor": 0
      },
      "text/plain": [
       "  0%|          | 0/10339 [00:00<?, ?it/s]"
      ]
     },
     "metadata": {},
     "output_type": "display_data"
    },
    {
     "data": {
      "application/vnd.jupyter.widget-view+json": {
       "model_id": "2e47c67a0a3a46558e3d40bd9cb2fd5b",
       "version_major": 2,
       "version_minor": 0
      },
      "text/plain": [
       "  0%|          | 0/10339 [00:00<?, ?it/s]"
      ]
     },
     "metadata": {},
     "output_type": "display_data"
    },
    {
     "data": {
      "application/vnd.jupyter.widget-view+json": {
       "model_id": "12c97ea0a139404983dcf30e1f7e56f4",
       "version_major": 2,
       "version_minor": 0
      },
      "text/plain": [
       "  0%|          | 0/10339 [00:00<?, ?it/s]"
      ]
     },
     "metadata": {},
     "output_type": "display_data"
    },
    {
     "data": {
      "application/vnd.jupyter.widget-view+json": {
       "model_id": "488a2deb3e644431ac31c3171956a12b",
       "version_major": 2,
       "version_minor": 0
      },
      "text/plain": [
       "  0%|          | 0/10339 [00:00<?, ?it/s]"
      ]
     },
     "metadata": {},
     "output_type": "display_data"
    },
    {
     "data": {
      "application/vnd.jupyter.widget-view+json": {
       "model_id": "2840d8b28a7e4965b6e50376cf2700aa",
       "version_major": 2,
       "version_minor": 0
      },
      "text/plain": [
       "  0%|          | 0/10339 [00:00<?, ?it/s]"
      ]
     },
     "metadata": {},
     "output_type": "display_data"
    },
    {
     "data": {
      "application/vnd.jupyter.widget-view+json": {
       "model_id": "c47e48cd05274deb8eacda41fab6a16b",
       "version_major": 2,
       "version_minor": 0
      },
      "text/plain": [
       "  0%|          | 0/10339 [00:00<?, ?it/s]"
      ]
     },
     "metadata": {},
     "output_type": "display_data"
    },
    {
     "data": {
      "application/vnd.jupyter.widget-view+json": {
       "model_id": "dfcddcbcfadf47cf8e8d453e97025ba0",
       "version_major": 2,
       "version_minor": 0
      },
      "text/plain": [
       "  0%|          | 0/10339 [00:00<?, ?it/s]"
      ]
     },
     "metadata": {},
     "output_type": "display_data"
    },
    {
     "data": {
      "application/vnd.jupyter.widget-view+json": {
       "model_id": "5bb755e6e44848089b5359cbc017c3ff",
       "version_major": 2,
       "version_minor": 0
      },
      "text/plain": [
       "  0%|          | 0/10339 [00:00<?, ?it/s]"
      ]
     },
     "metadata": {},
     "output_type": "display_data"
    },
    {
     "data": {
      "application/vnd.jupyter.widget-view+json": {
       "model_id": "855fde62a31e43018f4ae5b492876fc2",
       "version_major": 2,
       "version_minor": 0
      },
      "text/plain": [
       "  0%|          | 0/10339 [00:00<?, ?it/s]"
      ]
     },
     "metadata": {},
     "output_type": "display_data"
    },
    {
     "data": {
      "application/vnd.jupyter.widget-view+json": {
       "model_id": "14c3f76dac7e4f1bbf18e60b52bbfe8a",
       "version_major": 2,
       "version_minor": 0
      },
      "text/plain": [
       "  0%|          | 0/10339 [00:00<?, ?it/s]"
      ]
     },
     "metadata": {},
     "output_type": "display_data"
    },
    {
     "data": {
      "application/vnd.jupyter.widget-view+json": {
       "model_id": "a488268542a04d84a91764785239b7b7",
       "version_major": 2,
       "version_minor": 0
      },
      "text/plain": [
       "  0%|          | 0/10339 [00:00<?, ?it/s]"
      ]
     },
     "metadata": {},
     "output_type": "display_data"
    },
    {
     "name": "stdout",
     "output_type": "stream",
     "text": [
      "Wall time: 2h 20min 32s\n"
     ]
    }
   ],
   "source": [
    "%%time\n",
    "# если при обучении модели подать взвешенную матрицу, а при выдаче рекомендаций невзвешенную, то выдача рекомендаций происходит \n",
    "# очень долго, но результат значительно лучше. Поэтому в целях экономии времени выдача рекомендаций по дополнительным соседям\n",
    "# сделана только для лучшей модели - tfidf\n",
    "valid_eval_matcher['cosine_rec'] = valid_eval_matcher[USER_COL].apply(lambda x: recommender.get_cosine_recommendations(x, N=N_PREDICT))\n",
    "valid_eval_matcher['tfidf_rec'] = valid_eval_matcher[USER_COL].apply(lambda x: recommender.get_tfidf_recommendations(x, N=N_PREDICT))\n",
    "valid_eval_matcher['bm25_rec'] = valid_eval_matcher[USER_COL].apply(lambda x: recommender.get_bm25_recommendations(x, N=N_PREDICT))\n",
    "valid_eval_matcher['own_rec'] = valid_eval_matcher[USER_COL].apply(lambda x: recommender.get_own_recommendations(x, N=N_PREDICT))\n",
    "valid_eval_matcher['als_rec'] = valid_eval_matcher[USER_COL].apply(lambda x: recommender.get_als_recommendations(x, N=N_PREDICT))"
   ]
  },
  {
   "cell_type": "markdown",
   "metadata": {},
   "source": [
    "## Intermediate evaluation (1st-level model):"
   ]
  },
  {
   "cell_type": "code",
   "execution_count": 21,
   "metadata": {},
   "outputs": [],
   "source": [
    "def calc_recall(df_data, top_k):\n",
    "    for col_name in df_data.columns[2:]:\n",
    "        yield col_name, df_data.apply(lambda row: recall_at_k(row[col_name], row[ACTUAL_COL], k=top_k), axis=1).mean()\n",
    "        \n",
    "def calc_precision(df_data, top_k):\n",
    "    for col_name in df_data.columns[2:]:\n",
    "        yield col_name, df_data.apply(lambda row: precision_at_k(row[col_name], row[ACTUAL_COL], k=top_k), axis=1).mean()"
   ]
  },
  {
   "cell_type": "markdown",
   "metadata": {},
   "source": [
    "### Recall@50 of matching"
   ]
  },
  {
   "cell_type": "code",
   "execution_count": 22,
   "metadata": {},
   "outputs": [],
   "source": [
    "TOPK_RECALL = N_PREDICT"
   ]
  },
  {
   "cell_type": "code",
   "execution_count": 23,
   "metadata": {
    "scrolled": false
   },
   "outputs": [
    {
     "data": {
      "text/plain": [
       "[('tfidf_rec', 0.144055556676992),\n",
       " ('cosine_rec', 0.14301375356820242),\n",
       " ('bm25_rec', 0.13822675015069052),\n",
       " ('own_rec', 0.09651106619871015),\n",
       " ('als_rec', 0.09478073674355386)]"
      ]
     },
     "execution_count": 23,
     "metadata": {},
     "output_type": "execute_result"
    }
   ],
   "source": [
    "sorted(calc_recall(valid_eval_matcher, TOPK_RECALL), key=lambda x: x[1],reverse=True)"
   ]
  },
  {
   "cell_type": "markdown",
   "metadata": {},
   "source": [
    "### Precision@5 of matching"
   ]
  },
  {
   "cell_type": "code",
   "execution_count": 24,
   "metadata": {},
   "outputs": [],
   "source": [
    "TOPK_PRECISION = 5"
   ]
  },
  {
   "cell_type": "code",
   "execution_count": 25,
   "metadata": {},
   "outputs": [
    {
     "data": {
      "text/plain": [
       "[('tfidf_rec', 0.4303664921465969),\n",
       " ('cosine_rec', 0.4303664921465966),\n",
       " ('bm25_rec', 0.4241789623988579),\n",
       " ('als_rec', 0.26796763445978),\n",
       " ('own_rec', 0.21018562589242965)]"
      ]
     },
     "execution_count": 25,
     "metadata": {},
     "output_type": "execute_result"
    }
   ],
   "source": [
    "sorted(calc_precision(valid_eval_matcher, TOPK_PRECISION), key=lambda x: x[1],reverse=True)"
   ]
  },
  {
   "cell_type": "markdown",
   "metadata": {},
   "source": [
    "Лучший результат у модели TFIDF, он будет использован для обучения модели 2го уровня. Использование результатов нескольких моделей негативно сказалось на целевой метрике."
   ]
  },
  {
   "cell_type": "code",
   "execution_count": 26,
   "metadata": {},
   "outputs": [],
   "source": [
    "valid_eval_matcher['final'] = valid_eval_matcher['tfidf_rec']"
   ]
  },
  {
   "cell_type": "markdown",
   "metadata": {},
   "source": [
    "# Ranking part"
   ]
  },
  {
   "cell_type": "markdown",
   "metadata": {},
   "source": [
    "### Обучаем модель 2-ого уровня на выбранных кандидатах\n"
   ]
  },
  {
   "cell_type": "markdown",
   "metadata": {},
   "source": [
    "## Подготовка данных для трейна"
   ]
  },
  {
   "cell_type": "code",
   "execution_count": 27,
   "metadata": {},
   "outputs": [],
   "source": [
    "# взяли пользователей из трейна для ранжирования\n",
    "df_match_candidates = pd.DataFrame(data_train_ranker[USER_COL].unique())\n",
    "df_match_candidates.columns = [USER_COL]"
   ]
  },
  {
   "cell_type": "code",
   "execution_count": 28,
   "metadata": {},
   "outputs": [],
   "source": [
    "df_match_candidates = df_match_candidates.merge(valid_eval_matcher[['user_id','final']], on = 'user_id', how = 'left')"
   ]
  },
  {
   "cell_type": "code",
   "execution_count": 29,
   "metadata": {},
   "outputs": [],
   "source": [
    "# разворачиваем товары\n",
    "df_items = df_match_candidates.apply(lambda x: pd.Series(x['final']), axis=1).stack().reset_index(level=1, drop=True)\n",
    "df_items.name = 'item_id'"
   ]
  },
  {
   "cell_type": "code",
   "execution_count": 30,
   "metadata": {},
   "outputs": [],
   "source": [
    "df_match_candidates = df_match_candidates.drop('final', axis=1).join(df_items)"
   ]
  },
  {
   "cell_type": "code",
   "execution_count": 99,
   "metadata": {},
   "outputs": [
    {
     "data": {
      "text/html": [
       "<div>\n",
       "<style scoped>\n",
       "    .dataframe tbody tr th:only-of-type {\n",
       "        vertical-align: middle;\n",
       "    }\n",
       "\n",
       "    .dataframe tbody tr th {\n",
       "        vertical-align: top;\n",
       "    }\n",
       "\n",
       "    .dataframe thead th {\n",
       "        text-align: right;\n",
       "    }\n",
       "</style>\n",
       "<table border=\"1\" class=\"dataframe\">\n",
       "  <thead>\n",
       "    <tr style=\"text-align: right;\">\n",
       "      <th></th>\n",
       "      <th>user_id</th>\n",
       "      <th>item_id</th>\n",
       "    </tr>\n",
       "  </thead>\n",
       "  <tbody>\n",
       "    <tr>\n",
       "      <th>0</th>\n",
       "      <td>2445</td>\n",
       "      <td>995242</td>\n",
       "    </tr>\n",
       "    <tr>\n",
       "      <th>0</th>\n",
       "      <td>2445</td>\n",
       "      <td>879755</td>\n",
       "    </tr>\n",
       "    <tr>\n",
       "      <th>0</th>\n",
       "      <td>2445</td>\n",
       "      <td>1107553</td>\n",
       "    </tr>\n",
       "    <tr>\n",
       "      <th>0</th>\n",
       "      <td>2445</td>\n",
       "      <td>908531</td>\n",
       "    </tr>\n",
       "  </tbody>\n",
       "</table>\n",
       "</div>"
      ],
      "text/plain": [
       "   user_id  item_id\n",
       "0     2445   995242\n",
       "0     2445   879755\n",
       "0     2445  1107553\n",
       "0     2445   908531"
      ]
     },
     "execution_count": 99,
     "metadata": {},
     "output_type": "execute_result"
    }
   ],
   "source": [
    "df_match_candidates.head(4)"
   ]
  },
  {
   "cell_type": "code",
   "execution_count": 32,
   "metadata": {},
   "outputs": [],
   "source": [
    "df_match_candidates.to_csv(os.path.join(PATH_DATA,'df_match_candidates.csv'), index=False, encoding='utf-8', sep=',')"
   ]
  },
  {
   "cell_type": "code",
   "execution_count": 19,
   "metadata": {},
   "outputs": [],
   "source": [
    "#df_match_candidates = pd.read_csv(os.path.join(PATH_DATA,'df_match_candidates.csv'))"
   ]
  },
  {
   "cell_type": "markdown",
   "metadata": {},
   "source": [
    "### Создаем трейн сет для ранжирования с учетом кандидатов с этапа 1 "
   ]
  },
  {
   "cell_type": "code",
   "execution_count": 112,
   "metadata": {},
   "outputs": [],
   "source": [
    "df_ranker_train = data_train_ranker[[USER_COL, ITEM_COL]].copy()\n",
    "df_ranker_train['target'] = 1  # тут только покупки \n",
    "\n",
    "df_ranker_train = df_match_candidates.merge(df_ranker_train, on=[USER_COL, ITEM_COL], how='left')\n",
    "\n",
    "# чистим дубликаты\n",
    "df_ranker_train = df_ranker_train.drop_duplicates(subset=[USER_COL, ITEM_COL])\n",
    "\n",
    "df_ranker_train['target'].fillna(0, inplace= True)"
   ]
  },
  {
   "cell_type": "code",
   "execution_count": 113,
   "metadata": {},
   "outputs": [
    {
     "data": {
      "text/plain": [
       "0.0    47752\n",
       "1.0    15278\n",
       "Name: target, dtype: int64"
      ]
     },
     "execution_count": 113,
     "metadata": {},
     "output_type": "execute_result"
    }
   ],
   "source": [
    "df_ranker_train.target.value_counts()"
   ]
  },
  {
   "cell_type": "code",
   "execution_count": 114,
   "metadata": {},
   "outputs": [
    {
     "data": {
      "text/html": [
       "<div>\n",
       "<style scoped>\n",
       "    .dataframe tbody tr th:only-of-type {\n",
       "        vertical-align: middle;\n",
       "    }\n",
       "\n",
       "    .dataframe tbody tr th {\n",
       "        vertical-align: top;\n",
       "    }\n",
       "\n",
       "    .dataframe thead th {\n",
       "        text-align: right;\n",
       "    }\n",
       "</style>\n",
       "<table border=\"1\" class=\"dataframe\">\n",
       "  <thead>\n",
       "    <tr style=\"text-align: right;\">\n",
       "      <th></th>\n",
       "      <th>user_id</th>\n",
       "      <th>item_id</th>\n",
       "      <th>target</th>\n",
       "    </tr>\n",
       "  </thead>\n",
       "  <tbody>\n",
       "    <tr>\n",
       "      <th>0</th>\n",
       "      <td>2445</td>\n",
       "      <td>995242</td>\n",
       "      <td>1.0</td>\n",
       "    </tr>\n",
       "    <tr>\n",
       "      <th>1</th>\n",
       "      <td>2445</td>\n",
       "      <td>879755</td>\n",
       "      <td>0.0</td>\n",
       "    </tr>\n",
       "  </tbody>\n",
       "</table>\n",
       "</div>"
      ],
      "text/plain": [
       "   user_id  item_id  target\n",
       "0     2445   995242     1.0\n",
       "1     2445   879755     0.0"
      ]
     },
     "execution_count": 114,
     "metadata": {},
     "output_type": "execute_result"
    }
   ],
   "source": [
    "df_ranker_train.head(2)"
   ]
  },
  {
   "cell_type": "markdown",
   "metadata": {},
   "source": [
    "## Подготавливаем фичи для обучения модели"
   ]
  },
  {
   "cell_type": "code",
   "execution_count": 115,
   "metadata": {},
   "outputs": [],
   "source": [
    "def tranform(item_features, user_features, data, df_ranker_train): \n",
    "    item_features =item_features.drop('manufacturer', axis=1)\n",
    "    \n",
    "    user_features['age_desc'] = user_features['age_desc'].replace(\n",
    "        {'65+': 5, '45-54': 3, '25-34': 1, '35-44': 2, '19-24': 0, '55-64': 4})\n",
    "    user_features['age_desc'] = user_features['age_desc'].astype('int')\n",
    "    user_features['income_desc'] = user_features['income_desc'].replace(\n",
    "        {'35-49K': (35+49)/2/52, # вероятно, прибыль дана за год, посчитаем прибыль за неделю \n",
    "         '50-74K': (50+74)/2/52,\n",
    "         '25-34K': (25+34)/2/52,\n",
    "         '75-99K': (75+99)/2/52,\n",
    "         'Under 15K': 15/52,\n",
    "         '100-124K': (100+124)/2/52,\n",
    "         '15-24K': (15+24)/2/52,\n",
    "         '125-149K': (125+149)/2/52,\n",
    "         '150-174K': (150+174)/2/52,\n",
    "         '250K+': 250/52,\n",
    "         '175-199K': (175+199)/2/52,\n",
    "         '200-249K': (200+249)/2/52})\n",
    "    user_features.loc[user_features['kid_category_desc']=='3+', 'kid_category_desc'] = 3\n",
    "    user_features.loc[user_features['kid_category_desc']=='None/Unknown', 'kid_category_desc'] = 0\n",
    "    user_features['kid_category_desc'] = user_features['kid_category_desc'].astype('int')\n",
    "    \n",
    "    df_ranker_train = df_ranker_train.merge(item_features, on='item_id', how='left')\n",
    "    df_ranker_train = df_ranker_train.merge(user_features, on='user_id', how='left')\n",
    "    data['price'] = data['sales_value'] / data['quantity']\n",
    "    df_features = data.merge(item_features, on='item_id', how='left')\n",
    "    \n",
    "    df_ranker_train = df_ranker_train.merge(data.groupby(by=ITEM_COL).agg('quantity').sum().rename('total_quantity_value'), how='left',on=ITEM_COL)\n",
    "    df_ranker_train = df_ranker_train.merge(data.groupby(by=[USER_COL, ITEM_COL]).agg('quantity').sum().rename('user_quantity_value'), how='left',on=[USER_COL, ITEM_COL])\n",
    "    df_ranker_train['user_quantity_value'].fillna(0, inplace= True)\n",
    "    df_ranker_train['q-ty_ratio'] = df_ranker_train['user_quantity_value'] / df_ranker_train['total_quantity_value']\n",
    "    df_ranker_train = df_ranker_train.merge(data.groupby(by=[ITEM_COL, USER_COL]).agg('sales_value').sum().rename('user_sales_value')/data.week_no.nunique(), how='left',on=[ITEM_COL, USER_COL])\n",
    "    df_ranker_train = df_ranker_train.merge(data.groupby(by=ITEM_COL).agg('sales_value').sum().rename('total_sales_value')/data.week_no.nunique(), how='left',on=ITEM_COL)\n",
    "    df_ranker_train['user_sales_value'].fillna(0, inplace= True)\n",
    "    df_ranker_train['sales_value_ratio'] = df_ranker_train['user_sales_value'] / df_ranker_train['total_sales_value']\n",
    "    df_ranker_train = df_ranker_train.merge(data.groupby(by=ITEM_COL).agg(USER_COL).count().rename('item_freq'), how='left',on=ITEM_COL)\n",
    "    \n",
    "    df_ranker_train = df_ranker_train.merge(data.groupby(by=USER_COL).agg('quantity').sum().rename('user_quantity_per_week')/data.week_no.nunique(), how='left',on=USER_COL)\n",
    "    df_ranker_train = df_ranker_train.merge(data.groupby('item_id')['price'].mean(), on='item_id', how='left')\n",
    "    df_ranker_train = df_ranker_train.rename(columns={'price':'item_price'})\n",
    "    df_ranker_train['val_per_week'] = df_ranker_train['item_price'] * df_ranker_train['user_quantity_per_week']\n",
    "    df_ranker_train = df_ranker_train.merge(df_ranker_train.groupby('department')['item_price'].mean().rename('dept_avg_price'), on='department', how='left')\n",
    "    df_ranker_train['price_ratio'] = df_ranker_train['item_price'] / df_ranker_train['dept_avg_price']\n",
    "    df_ranker_train['avg_price_minus_item_price'] = df_ranker_train['dept_avg_price'] - df_ranker_train['item_price']\n",
    "\n",
    "    df_ranker_train = df_ranker_train.merge(df_features.groupby(['user_id', 'department'])['quantity'].sum().rename('q-ty_per_cat').reset_index(), on=['user_id', 'department'], how='left')\n",
    "    df_ranker_train = df_ranker_train.merge(df_features.groupby('department')['quantity'].sum().rename('total_q-ty_cat'), on='department', how='left')\n",
    "\n",
    "    df_ranker_train = df_ranker_train.merge(data.groupby(['user_id']).sales_value.sum().rename('user_sales_value')/data.week_no.nunique(), on='user_id', how='left')\n",
    "    df_ranker_train= df_ranker_train.merge(data.groupby(['user_id']).basket_id.count().rename('user_baskets')/data.week_no.nunique(), on='user_id', how='left')\n",
    "    df_ranker_train['avg_basket_sum'] = df_ranker_train['user_sales_value_y']/df_ranker_train['user_baskets']\n",
    "\n",
    "    df_ranker_train= df_ranker_train.merge(data.groupby('item_id')['retail_disc'].mean(),on=ITEM_COL, how='left')\n",
    "    df_ranker_train= df_ranker_train.merge(data.groupby('user_id')['item_id'].nunique().rename('user_items'),on=USER_COL, how='left')\n",
    "    df_ranker_train= df_ranker_train.merge(data.groupby('user_id')['day'].nunique().rename('user_days'),on=USER_COL, how='left')\n",
    "    \n",
    "    commodities = df_features.groupby(['user_id', 'commodity_desc', 'week_no'])['quantity'].mean().rename('user_commodities_per_week').reset_index()\n",
    "    commodities = commodities.merge(df_features.groupby(['commodity_desc', 'week_no'])['quantity'].sum().rename('total_commodities_per_week')\\\n",
    "                                    .reset_index(), on=['commodity_desc', 'week_no'], how='left')\n",
    "    commodities['commodities_per_week'] = commodities['total_commodities_per_week'] / commodities['user_commodities_per_week']\n",
    "    df_ranker_train = df_ranker_train.merge(commodities.groupby(['user_id', 'commodity_desc'])['commodities_per_week'].mean() \\\n",
    "        .reset_index(), on=['user_id', 'commodity_desc'], how='left')\n",
    "    \n",
    "    commodities_price = df_features.groupby(['user_id', 'commodity_desc', 'week_no'])['price'].sum().rename('weekly_price').reset_index()\n",
    "    commodities_price = commodities_price.merge(df_features.groupby(['commodity_desc', 'week_no'])['price'].sum(). \\\n",
    "                                                rename('weekly_price_total').reset_index(), on=['commodity_desc', 'week_no'], how='left')\n",
    "    commodities_price['mean_commodity_weekly_price'] =   commodities_price['weekly_price']/ commodities_price['weekly_price_total']                                        \n",
    "    df_ranker_train = df_ranker_train.merge(commodities_price.groupby(['user_id', 'commodity_desc'])['mean_commodity_weekly_price'].mean()\\\n",
    "                                            .reset_index(), on=['user_id', 'commodity_desc'], how='left')\n",
    "    \n",
    "    df_ranker_train['q-ty_percent'] = df_ranker_train['total_quantity_value']/df_ranker_train['total_quantity_value'].sum()*100\n",
    "    df_ranker_train['user_quantity_percent'] = df_ranker_train['user_quantity_value']/df_ranker_train['user_quantity_value'].sum()*100\n",
    "    unique_users = data.groupby('item_id')['user_id'].nunique().rename('unique_users').reset_index()\n",
    "    unique_users['unique_users'] = unique_users['unique_users']/unique_users['unique_users'].sum()*100\n",
    "    df_ranker_train= df_ranker_train.merge(unique_users, on=ITEM_COL, how='left')\n",
    "    user_items = data.groupby('user_id')['quantity'].sum().rename('n_sold').reset_index()\n",
    "    user_items['n_sold'] = user_items['n_sold']/user_items['n_sold'].sum()*100\n",
    "    df_ranker_train= df_ranker_train.merge(user_items, on=USER_COL, how='left')\n",
    "    \n",
    "    return df_ranker_train  \n",
    "    \n"
   ]
  },
  {
   "cell_type": "code",
   "execution_count": 116,
   "metadata": {},
   "outputs": [
    {
     "data": {
      "text/html": [
       "<div>\n",
       "<style scoped>\n",
       "    .dataframe tbody tr th:only-of-type {\n",
       "        vertical-align: middle;\n",
       "    }\n",
       "\n",
       "    .dataframe tbody tr th {\n",
       "        vertical-align: top;\n",
       "    }\n",
       "\n",
       "    .dataframe thead th {\n",
       "        text-align: right;\n",
       "    }\n",
       "</style>\n",
       "<table border=\"1\" class=\"dataframe\">\n",
       "  <thead>\n",
       "    <tr style=\"text-align: right;\">\n",
       "      <th></th>\n",
       "      <th>user_id</th>\n",
       "      <th>item_id</th>\n",
       "      <th>target</th>\n",
       "      <th>department</th>\n",
       "      <th>brand</th>\n",
       "      <th>commodity_desc</th>\n",
       "      <th>sub_commodity_desc</th>\n",
       "      <th>curr_size_of_product</th>\n",
       "      <th>age_desc</th>\n",
       "      <th>marital_status_code</th>\n",
       "      <th>income_desc</th>\n",
       "      <th>homeowner_desc</th>\n",
       "      <th>hh_comp_desc</th>\n",
       "      <th>household_size_desc</th>\n",
       "      <th>kid_category_desc</th>\n",
       "      <th>total_quantity_value</th>\n",
       "      <th>user_quantity_value</th>\n",
       "      <th>q-ty_ratio</th>\n",
       "      <th>user_sales_value_x</th>\n",
       "      <th>total_sales_value</th>\n",
       "      <th>sales_value_ratio</th>\n",
       "      <th>item_freq</th>\n",
       "      <th>user_quantity_per_week</th>\n",
       "      <th>item_price</th>\n",
       "      <th>val_per_week</th>\n",
       "      <th>dept_avg_price</th>\n",
       "      <th>price_ratio</th>\n",
       "      <th>avg_price_minus_item_price</th>\n",
       "      <th>q-ty_per_cat</th>\n",
       "      <th>total_q-ty_cat</th>\n",
       "      <th>user_sales_value_y</th>\n",
       "      <th>user_baskets</th>\n",
       "      <th>avg_basket_sum</th>\n",
       "      <th>retail_disc</th>\n",
       "      <th>user_items</th>\n",
       "      <th>user_days</th>\n",
       "      <th>commodities_per_week</th>\n",
       "      <th>mean_commodity_weekly_price</th>\n",
       "      <th>q-ty_percent</th>\n",
       "      <th>user_quantity_percent</th>\n",
       "      <th>unique_users</th>\n",
       "      <th>n_sold</th>\n",
       "    </tr>\n",
       "  </thead>\n",
       "  <tbody>\n",
       "    <tr>\n",
       "      <th>0</th>\n",
       "      <td>2445</td>\n",
       "      <td>995242</td>\n",
       "      <td>1.0</td>\n",
       "      <td>GROCERY</td>\n",
       "      <td>Private</td>\n",
       "      <td>FLUID MILK PRODUCTS</td>\n",
       "      <td>FLUID MILK WHITE ONLY</td>\n",
       "      <td></td>\n",
       "      <td>3.0</td>\n",
       "      <td>U</td>\n",
       "      <td>0.807692</td>\n",
       "      <td>Unknown</td>\n",
       "      <td>Unknown</td>\n",
       "      <td>1</td>\n",
       "      <td>0.0</td>\n",
       "      <td>19706</td>\n",
       "      <td>86.0</td>\n",
       "      <td>0.004364</td>\n",
       "      <td>0.931579</td>\n",
       "      <td>251.523789</td>\n",
       "      <td>0.003704</td>\n",
       "      <td>11397</td>\n",
       "      <td>2113.431579</td>\n",
       "      <td>1.301258</td>\n",
       "      <td>2750.119860</td>\n",
       "      <td>inf</td>\n",
       "      <td>0.0</td>\n",
       "      <td>inf</td>\n",
       "      <td>2544.0</td>\n",
       "      <td>2025562</td>\n",
       "      <td>65.145579</td>\n",
       "      <td>25.326316</td>\n",
       "      <td>2.572249</td>\n",
       "      <td>-1.153365</td>\n",
       "      <td>1559</td>\n",
       "      <td>154</td>\n",
       "      <td>760.205284</td>\n",
       "      <td>0.001945</td>\n",
       "      <td>0.000012</td>\n",
       "      <td>0.000040</td>\n",
       "      <td>0.108112</td>\n",
       "      <td>0.083454</td>\n",
       "    </tr>\n",
       "    <tr>\n",
       "      <th>1</th>\n",
       "      <td>2445</td>\n",
       "      <td>879755</td>\n",
       "      <td>0.0</td>\n",
       "      <td>GROCERY</td>\n",
       "      <td>National</td>\n",
       "      <td>SOFT DRINKS</td>\n",
       "      <td>SFT DRNK SNGL SRV BTL CARB (EX</td>\n",
       "      <td>20 OZ</td>\n",
       "      <td>3.0</td>\n",
       "      <td>U</td>\n",
       "      <td>0.807692</td>\n",
       "      <td>Unknown</td>\n",
       "      <td>Unknown</td>\n",
       "      <td>1</td>\n",
       "      <td>0.0</td>\n",
       "      <td>2167</td>\n",
       "      <td>25.0</td>\n",
       "      <td>0.011537</td>\n",
       "      <td>0.287684</td>\n",
       "      <td>24.201158</td>\n",
       "      <td>0.011887</td>\n",
       "      <td>1771</td>\n",
       "      <td>2113.431579</td>\n",
       "      <td>1.063321</td>\n",
       "      <td>2247.256316</td>\n",
       "      <td>inf</td>\n",
       "      <td>0.0</td>\n",
       "      <td>inf</td>\n",
       "      <td>2544.0</td>\n",
       "      <td>2025562</td>\n",
       "      <td>65.145579</td>\n",
       "      <td>25.326316</td>\n",
       "      <td>2.572249</td>\n",
       "      <td>-0.280045</td>\n",
       "      <td>1559</td>\n",
       "      <td>154</td>\n",
       "      <td>1319.106630</td>\n",
       "      <td>0.002077</td>\n",
       "      <td>0.000001</td>\n",
       "      <td>0.000012</td>\n",
       "      <td>0.033628</td>\n",
       "      <td>0.083454</td>\n",
       "    </tr>\n",
       "  </tbody>\n",
       "</table>\n",
       "</div>"
      ],
      "text/plain": [
       "   user_id  item_id  target department     brand       commodity_desc  \\\n",
       "0     2445   995242     1.0    GROCERY   Private  FLUID MILK PRODUCTS   \n",
       "1     2445   879755     0.0    GROCERY  National          SOFT DRINKS   \n",
       "\n",
       "               sub_commodity_desc curr_size_of_product  age_desc  \\\n",
       "0           FLUID MILK WHITE ONLY                            3.0   \n",
       "1  SFT DRNK SNGL SRV BTL CARB (EX                20 OZ       3.0   \n",
       "\n",
       "  marital_status_code  income_desc homeowner_desc hh_comp_desc  \\\n",
       "0                   U     0.807692        Unknown      Unknown   \n",
       "1                   U     0.807692        Unknown      Unknown   \n",
       "\n",
       "  household_size_desc  kid_category_desc  total_quantity_value  \\\n",
       "0                   1                0.0                 19706   \n",
       "1                   1                0.0                  2167   \n",
       "\n",
       "   user_quantity_value  q-ty_ratio  user_sales_value_x  total_sales_value  \\\n",
       "0                 86.0    0.004364            0.931579         251.523789   \n",
       "1                 25.0    0.011537            0.287684          24.201158   \n",
       "\n",
       "   sales_value_ratio  item_freq  user_quantity_per_week  item_price  \\\n",
       "0           0.003704      11397             2113.431579    1.301258   \n",
       "1           0.011887       1771             2113.431579    1.063321   \n",
       "\n",
       "   val_per_week  dept_avg_price  price_ratio  avg_price_minus_item_price  \\\n",
       "0   2750.119860             inf          0.0                         inf   \n",
       "1   2247.256316             inf          0.0                         inf   \n",
       "\n",
       "   q-ty_per_cat  total_q-ty_cat  user_sales_value_y  user_baskets  \\\n",
       "0        2544.0         2025562           65.145579     25.326316   \n",
       "1        2544.0         2025562           65.145579     25.326316   \n",
       "\n",
       "   avg_basket_sum  retail_disc  user_items  user_days  commodities_per_week  \\\n",
       "0        2.572249    -1.153365        1559        154            760.205284   \n",
       "1        2.572249    -0.280045        1559        154           1319.106630   \n",
       "\n",
       "   mean_commodity_weekly_price  q-ty_percent  user_quantity_percent  \\\n",
       "0                     0.001945      0.000012               0.000040   \n",
       "1                     0.002077      0.000001               0.000012   \n",
       "\n",
       "   unique_users    n_sold  \n",
       "0      0.108112  0.083454  \n",
       "1      0.033628  0.083454  "
      ]
     },
     "execution_count": 116,
     "metadata": {},
     "output_type": "execute_result"
    }
   ],
   "source": [
    "df_ranker_train = tranform(item_features, user_features, data, df_ranker_train)\n",
    "df_ranker_train.head(2)"
   ]
  },
  {
   "cell_type": "markdown",
   "metadata": {},
   "source": [
    "Также в качестве дополнительных факторов добавим item_factors и user_factors из ALS. Поскольку в предыдущий MainRecommender попали не все товары, а только отфильтрованные, обучим еще один рекоммендер на валидационном датасете "
   ]
  },
  {
   "cell_type": "code",
   "execution_count": 117,
   "metadata": {},
   "outputs": [
    {
     "data": {
      "application/vnd.jupyter.widget-view+json": {
       "model_id": "d2d9646005f2452ba5e5c17582e92bf6",
       "version_major": 2,
       "version_minor": 0
      },
      "text/plain": [
       "  0%|          | 0/8 [00:00<?, ?it/s]"
      ]
     },
     "metadata": {},
     "output_type": "display_data"
    },
    {
     "data": {
      "application/vnd.jupyter.widget-view+json": {
       "model_id": "f397c92b79634621a7aa75b65765f3bd",
       "version_major": 2,
       "version_minor": 0
      },
      "text/plain": [
       "  0%|          | 0/26561 [00:00<?, ?it/s]"
      ]
     },
     "metadata": {},
     "output_type": "display_data"
    },
    {
     "data": {
      "application/vnd.jupyter.widget-view+json": {
       "model_id": "51ef3cc94ef64c61bcc1d4534258251a",
       "version_major": 2,
       "version_minor": 0
      },
      "text/plain": [
       "  0%|          | 0/26561 [00:00<?, ?it/s]"
      ]
     },
     "metadata": {},
     "output_type": "display_data"
    },
    {
     "data": {
      "application/vnd.jupyter.widget-view+json": {
       "model_id": "2193ba5745ca4037addc7a2ca1d01b09",
       "version_major": 2,
       "version_minor": 0
      },
      "text/plain": [
       "  0%|          | 0/26561 [00:00<?, ?it/s]"
      ]
     },
     "metadata": {},
     "output_type": "display_data"
    },
    {
     "data": {
      "application/vnd.jupyter.widget-view+json": {
       "model_id": "a73a29490f484a4fa26d7ea54bac4f53",
       "version_major": 2,
       "version_minor": 0
      },
      "text/plain": [
       "  0%|          | 0/26561 [00:00<?, ?it/s]"
      ]
     },
     "metadata": {},
     "output_type": "display_data"
    }
   ],
   "source": [
    "recommender_valid = MainRecommender(data_val_matcher)"
   ]
  },
  {
   "cell_type": "code",
   "execution_count": 118,
   "metadata": {},
   "outputs": [],
   "source": [
    "item_factors_valid = pd.DataFrame(recommender_valid.model.item_factors[:, :30])\n",
    "item_factors_valid.reset_index(inplace=True)\n",
    "item_factors_valid['item_id'] = item_factors_valid['index'].apply(lambda x: recommender_valid.id_to_itemid[x])\n",
    "item_factors_valid = item_factors_valid.drop('index', axis=1)\n",
    "#факторы из предыдущего рекоммендера\n",
    "item_factors_train = pd.DataFrame(recommender.model.item_factors[:, :30])\n",
    "item_factors_train.reset_index(inplace=True)\n",
    "item_factors_train['item_id'] = item_factors_train['index'].apply(lambda x: recommender.id_to_itemid[x])\n",
    "item_factors_train = item_factors_train.drop('index', axis=1)\n",
    "# добавим ембеддинги тех товаров, которых нет в валиде, из предыдущего рекоммендера\n",
    "item_factors = item_factors_valid.append(item_factors_train[~item_factors_train['item_id'].isin(np.unique(item_factors_valid['item_id']))])"
   ]
  },
  {
   "cell_type": "code",
   "execution_count": 119,
   "metadata": {},
   "outputs": [],
   "source": [
    "user_factors_valid = pd.DataFrame(recommender_valid.model.user_factors[:, :30])\n",
    "user_factors_valid.reset_index(inplace=True)\n",
    "user_factors_valid['user_id'] = user_factors_valid['index'].apply(lambda x: recommender_valid.id_to_userid[x])\n",
    "user_factors_valid = user_factors_valid.drop('index', axis=1)"
   ]
  },
  {
   "cell_type": "code",
   "execution_count": 120,
   "metadata": {},
   "outputs": [],
   "source": [
    "df_ranker_train = df_ranker_train.merge(item_factors, on=ITEM_COL, how='left')\n",
    "df_ranker_train = df_ranker_train.merge(user_factors_valid, on=USER_COL, how='left')"
   ]
  },
  {
   "cell_type": "code",
   "execution_count": 66,
   "metadata": {},
   "outputs": [
    {
     "data": {
      "text/plain": [
       "item_id                           0\n",
       "target                            0\n",
       "department                        0\n",
       "brand                             0\n",
       "commodity_desc                    0\n",
       "sub_commodity_desc                0\n",
       "curr_size_of_product              0\n",
       "age_desc                      39870\n",
       "marital_status_code           39870\n",
       "income_desc                   39870\n",
       "homeowner_desc                39870\n",
       "hh_comp_desc                  39870\n",
       "household_size_desc           39870\n",
       "kid_category_desc             39870\n",
       "total_quantity_value              0\n",
       "user_quantity_value               0\n",
       "q-ty_ratio                        0\n",
       "user_sales_value_x                0\n",
       "total_sales_value                 0\n",
       "sales_value_ratio                13\n",
       "item_freq                         0\n",
       "user_quantity_per_week            0\n",
       "item_price                        0\n",
       "val_per_week                      0\n",
       "dept_avg_price                    0\n",
       "price_ratio                    3455\n",
       "avg_price_minus_item_price     3455\n",
       "q-ty_per_cat                    189\n",
       "total_q-ty_cat                    0\n",
       "user_sales_value_y                0\n",
       "user_baskets                      0\n",
       "avg_basket_sum                    0\n",
       "retail_disc                       0\n",
       "user_items                        0\n",
       "dtype: int64"
      ]
     },
     "execution_count": 66,
     "metadata": {},
     "output_type": "execute_result"
    }
   ],
   "source": [
    "df_ranker_train.isnull().sum()[1:35]"
   ]
  },
  {
   "cell_type": "markdown",
   "metadata": {},
   "source": [
    "Много пропусков, в основном, из-за нехватки информации о пользователях user_features. Пыталась заполнять недотающую информацию данными ближайшего соседа (соседей) из als similar users, но улучшения результата это не дало"
   ]
  },
  {
   "cell_type": "code",
   "execution_count": 54,
   "metadata": {},
   "outputs": [],
   "source": [
    "# НЕ СРАБОТАЛО\n",
    "known_users = np.unique(user_features['user_id'])\n",
    "all_users= np.unique(df_ranker_train['user_id'])\n",
    "unknown_users = np.setdiff1d(all_users, known_users)\n",
    "\n",
    "# ищем хотя бы 1 самого похожего пользователя. Если о нем известна личная информация, добавляем ту же информацию\n",
    "# для нашего пользователя. Можно искать нескольких \"соседей\".\n",
    "similar_users = [recommender.model.similar_users(recommender.userid_to_id[el], N=2) for el in unknown_users]\n",
    "for i in range(len(similar_users)):\n",
    "    users_i = [recommender.id_to_userid[rec[0]] for rec in similar_users[i]]\n",
    "    for user in users_i:\n",
    "        if user in known_users:\n",
    "            user_features = user_features.append(user_features.loc[user_features['user_id']==user])\n",
    "            user_features.tail(1)['user_id'] = unknown_users[i]\n",
    "            break"
   ]
  },
  {
   "cell_type": "code",
   "execution_count": 121,
   "metadata": {},
   "outputs": [],
   "source": [
    "X_train = df_ranker_train.drop(['target'], axis=1)\n",
    "y_train = df_ranker_train['target']"
   ]
  },
  {
   "cell_type": "code",
   "execution_count": 122,
   "metadata": {
    "scrolled": true
   },
   "outputs": [],
   "source": [
    "cat_feats = ['user_id', 'item_id',\n",
    " 'department',\n",
    " 'brand',\n",
    " 'commodity_desc',\n",
    " 'sub_commodity_desc',\n",
    " 'curr_size_of_product',\n",
    "  'marital_status_code',\n",
    " 'homeowner_desc',\n",
    " 'hh_comp_desc',\n",
    " 'household_size_desc']\n",
    "X_train[cat_feats] = X_train[cat_feats].astype('category')"
   ]
  },
  {
   "cell_type": "markdown",
   "metadata": {},
   "source": [
    "## Обучение модели ранжирования"
   ]
  },
  {
   "cell_type": "code",
   "execution_count": 123,
   "metadata": {
    "scrolled": false
   },
   "outputs": [],
   "source": [
    "lgb = LGBMClassifier(objective='binary',\n",
    "                     max_depth=10,\n",
    "                     n_estimators=89,\n",
    "                     num_leaves = 100,\n",
    "                     learning_rate=0.1,\n",
    "                     scale_pos_weight = 2.98,\n",
    "                     reg_lambda = 0.1,\n",
    "                     categorical_column=cat_feats)\n",
    "\n",
    "lgb.fit(X_train, y_train)\n",
    "\n",
    "train_preds = lgb.predict_proba(X_train)"
   ]
  },
  {
   "cell_type": "code",
   "execution_count": 124,
   "metadata": {},
   "outputs": [],
   "source": [
    "df_ranker_predict = df_ranker_train.copy()"
   ]
  },
  {
   "cell_type": "code",
   "execution_count": 125,
   "metadata": {},
   "outputs": [],
   "source": [
    "df_ranker_predict['proba_item_purchase'] = train_preds[:,1]"
   ]
  },
  {
   "cell_type": "markdown",
   "metadata": {},
   "source": [
    "# Evaluation on test dataset"
   ]
  },
  {
   "cell_type": "code",
   "execution_count": 126,
   "metadata": {},
   "outputs": [
    {
     "name": "stdout",
     "output_type": "stream",
     "text": [
      "match_candidates\n",
      "Shape: (63030, 2) Users: 2101 Items: 8502\n",
      "test\n",
      "Shape: (86369, 12) Users: 1761 Items: 20272\n"
     ]
    }
   ],
   "source": [
    "test = pd.read_csv(os.path.join(PATH_DATA,'retail_test1.csv'))\n",
    "\n",
    "#warm_start\n",
    "common_users = df_match_candidates.user_id.values\n",
    "test = test[test.user_id.isin(common_users)]\n",
    "\n",
    "print_stats_data(df_match_candidates, 'match_candidates')\n",
    "print_stats_data(test, 'test')"
   ]
  },
  {
   "cell_type": "code",
   "execution_count": 127,
   "metadata": {},
   "outputs": [
    {
     "data": {
      "text/html": [
       "<div>\n",
       "<style scoped>\n",
       "    .dataframe tbody tr th:only-of-type {\n",
       "        vertical-align: middle;\n",
       "    }\n",
       "\n",
       "    .dataframe tbody tr th {\n",
       "        vertical-align: top;\n",
       "    }\n",
       "\n",
       "    .dataframe thead th {\n",
       "        text-align: right;\n",
       "    }\n",
       "</style>\n",
       "<table border=\"1\" class=\"dataframe\">\n",
       "  <thead>\n",
       "    <tr style=\"text-align: right;\">\n",
       "      <th></th>\n",
       "      <th>user_id</th>\n",
       "      <th>actual</th>\n",
       "    </tr>\n",
       "  </thead>\n",
       "  <tbody>\n",
       "    <tr>\n",
       "      <th>0</th>\n",
       "      <td>1</td>\n",
       "      <td>[880007, 883616, 931136, 938004, 940947, 94726...</td>\n",
       "    </tr>\n",
       "    <tr>\n",
       "      <th>1</th>\n",
       "      <td>3</td>\n",
       "      <td>[827683, 908531, 989069, 1071377, 1080155, 109...</td>\n",
       "    </tr>\n",
       "    <tr>\n",
       "      <th>2</th>\n",
       "      <td>6</td>\n",
       "      <td>[956902, 960791, 1037863, 1119051, 1137688, 84...</td>\n",
       "    </tr>\n",
       "  </tbody>\n",
       "</table>\n",
       "</div>"
      ],
      "text/plain": [
       "   user_id                                             actual\n",
       "0        1  [880007, 883616, 931136, 938004, 940947, 94726...\n",
       "1        3  [827683, 908531, 989069, 1071377, 1080155, 109...\n",
       "2        6  [956902, 960791, 1037863, 1119051, 1137688, 84..."
      ]
     },
     "execution_count": 127,
     "metadata": {},
     "output_type": "execute_result"
    }
   ],
   "source": [
    "result_eval_ranker = test.groupby(USER_COL)[ITEM_COL].unique().reset_index()\n",
    "result_eval_ranker.columns=[USER_COL, ACTUAL_COL]\n",
    "result_eval_ranker.head(3)"
   ]
  },
  {
   "cell_type": "markdown",
   "metadata": {},
   "source": [
    "## Eval matching on test dataset"
   ]
  },
  {
   "cell_type": "code",
   "execution_count": 135,
   "metadata": {},
   "outputs": [
    {
     "data": {
      "application/vnd.jupyter.widget-view+json": {
       "model_id": "c41e9eef26994b1da7bba0891678e853",
       "version_major": 2,
       "version_minor": 0
      },
      "text/plain": [
       "  0%|          | 0/10339 [00:00<?, ?it/s]"
      ]
     },
     "metadata": {},
     "output_type": "display_data"
    },
    {
     "data": {
      "application/vnd.jupyter.widget-view+json": {
       "model_id": "09474689898c4f7da5e38a6d0642ea6e",
       "version_major": 2,
       "version_minor": 0
      },
      "text/plain": [
       "  0%|          | 0/10339 [00:00<?, ?it/s]"
      ]
     },
     "metadata": {},
     "output_type": "display_data"
    },
    {
     "data": {
      "application/vnd.jupyter.widget-view+json": {
       "model_id": "077fc28ea35540a2ba6c3711438a3d3c",
       "version_major": 2,
       "version_minor": 0
      },
      "text/plain": [
       "  0%|          | 0/10339 [00:00<?, ?it/s]"
      ]
     },
     "metadata": {},
     "output_type": "display_data"
    },
    {
     "data": {
      "application/vnd.jupyter.widget-view+json": {
       "model_id": "c45d3e7c83cb46c58aa6ae765264c594",
       "version_major": 2,
       "version_minor": 0
      },
      "text/plain": [
       "  0%|          | 0/10339 [00:00<?, ?it/s]"
      ]
     },
     "metadata": {},
     "output_type": "display_data"
    },
    {
     "data": {
      "application/vnd.jupyter.widget-view+json": {
       "model_id": "b6efc23d33ff4d1bac2347efe2ba8226",
       "version_major": 2,
       "version_minor": 0
      },
      "text/plain": [
       "  0%|          | 0/10339 [00:00<?, ?it/s]"
      ]
     },
     "metadata": {},
     "output_type": "display_data"
    },
    {
     "data": {
      "application/vnd.jupyter.widget-view+json": {
       "model_id": "5c471e0d57b241bc9364a43a5c57d5a3",
       "version_major": 2,
       "version_minor": 0
      },
      "text/plain": [
       "  0%|          | 0/10339 [00:00<?, ?it/s]"
      ]
     },
     "metadata": {},
     "output_type": "display_data"
    },
    {
     "data": {
      "application/vnd.jupyter.widget-view+json": {
       "model_id": "4b85ffe0dbf3460f8af99ca38a7b0993",
       "version_major": 2,
       "version_minor": 0
      },
      "text/plain": [
       "  0%|          | 0/10339 [00:00<?, ?it/s]"
      ]
     },
     "metadata": {},
     "output_type": "display_data"
    },
    {
     "data": {
      "application/vnd.jupyter.widget-view+json": {
       "model_id": "ab0784eab7b140249fdb602d88e3af1e",
       "version_major": 2,
       "version_minor": 0
      },
      "text/plain": [
       "  0%|          | 0/10339 [00:00<?, ?it/s]"
      ]
     },
     "metadata": {},
     "output_type": "display_data"
    },
    {
     "data": {
      "application/vnd.jupyter.widget-view+json": {
       "model_id": "7050eda61e3a4c47aec92c2e838e3e03",
       "version_major": 2,
       "version_minor": 0
      },
      "text/plain": [
       "  0%|          | 0/10339 [00:00<?, ?it/s]"
      ]
     },
     "metadata": {},
     "output_type": "display_data"
    },
    {
     "data": {
      "application/vnd.jupyter.widget-view+json": {
       "model_id": "2762361a5f2b47dbaf8628af996acd1b",
       "version_major": 2,
       "version_minor": 0
      },
      "text/plain": [
       "  0%|          | 0/10339 [00:00<?, ?it/s]"
      ]
     },
     "metadata": {},
     "output_type": "display_data"
    },
    {
     "data": {
      "application/vnd.jupyter.widget-view+json": {
       "model_id": "fd0dfc18f61a4be295c3e9446dcc2231",
       "version_major": 2,
       "version_minor": 0
      },
      "text/plain": [
       "  0%|          | 0/10339 [00:00<?, ?it/s]"
      ]
     },
     "metadata": {},
     "output_type": "display_data"
    },
    {
     "data": {
      "application/vnd.jupyter.widget-view+json": {
       "model_id": "a94860c9d9004ea3ba9b9ed4af459773",
       "version_major": 2,
       "version_minor": 0
      },
      "text/plain": [
       "  0%|          | 0/10339 [00:00<?, ?it/s]"
      ]
     },
     "metadata": {},
     "output_type": "display_data"
    },
    {
     "data": {
      "application/vnd.jupyter.widget-view+json": {
       "model_id": "20f3fee9f6804cb195c6fc23002dcfdf",
       "version_major": 2,
       "version_minor": 0
      },
      "text/plain": [
       "  0%|          | 0/10339 [00:00<?, ?it/s]"
      ]
     },
     "metadata": {},
     "output_type": "display_data"
    },
    {
     "data": {
      "application/vnd.jupyter.widget-view+json": {
       "model_id": "6096e974acc84a8bab910c10c5e17f3d",
       "version_major": 2,
       "version_minor": 0
      },
      "text/plain": [
       "  0%|          | 0/10339 [00:00<?, ?it/s]"
      ]
     },
     "metadata": {},
     "output_type": "display_data"
    },
    {
     "data": {
      "application/vnd.jupyter.widget-view+json": {
       "model_id": "1002a8a03f5a45ea8bace3b3abe9d5c8",
       "version_major": 2,
       "version_minor": 0
      },
      "text/plain": [
       "  0%|          | 0/10339 [00:00<?, ?it/s]"
      ]
     },
     "metadata": {},
     "output_type": "display_data"
    },
    {
     "data": {
      "application/vnd.jupyter.widget-view+json": {
       "model_id": "957837b3e2314151959de87a21c5275a",
       "version_major": 2,
       "version_minor": 0
      },
      "text/plain": [
       "  0%|          | 0/10339 [00:00<?, ?it/s]"
      ]
     },
     "metadata": {},
     "output_type": "display_data"
    },
    {
     "data": {
      "application/vnd.jupyter.widget-view+json": {
       "model_id": "375bac5aaddd4fc7aceecb441c7155bb",
       "version_major": 2,
       "version_minor": 0
      },
      "text/plain": [
       "  0%|          | 0/10339 [00:00<?, ?it/s]"
      ]
     },
     "metadata": {},
     "output_type": "display_data"
    },
    {
     "data": {
      "application/vnd.jupyter.widget-view+json": {
       "model_id": "26209c7d6a9d4a9fb2e286b3d8770ba0",
       "version_major": 2,
       "version_minor": 0
      },
      "text/plain": [
       "  0%|          | 0/10339 [00:00<?, ?it/s]"
      ]
     },
     "metadata": {},
     "output_type": "display_data"
    },
    {
     "data": {
      "application/vnd.jupyter.widget-view+json": {
       "model_id": "b5f7224e74c140d18f1a8ba037586507",
       "version_major": 2,
       "version_minor": 0
      },
      "text/plain": [
       "  0%|          | 0/10339 [00:00<?, ?it/s]"
      ]
     },
     "metadata": {},
     "output_type": "display_data"
    },
    {
     "name": "stdout",
     "output_type": "stream",
     "text": [
      "Wall time: 24min 2s\n"
     ]
    }
   ],
   "source": [
    "%%time\n",
    "#precision модели 1го уровня\n",
    "result_eval_ranker['tfidf_rec'] = result_eval_ranker[USER_COL].apply(lambda x: recommender.get_tfidf_recommendations(x, N=N_PREDICT))"
   ]
  },
  {
   "cell_type": "markdown",
   "metadata": {},
   "source": [
    "## Eval re-ranked matched result on test dataset\n",
    "\n",
    "    "
   ]
  },
  {
   "cell_type": "code",
   "execution_count": 50,
   "metadata": {},
   "outputs": [],
   "source": [
    "def rerank(user_id):\n",
    "    return df_ranker_predict[df_ranker_predict[USER_COL]==user_id].sort_values('proba_item_purchase', ascending=False).item_id.tolist()"
   ]
  },
  {
   "cell_type": "code",
   "execution_count": 128,
   "metadata": {},
   "outputs": [],
   "source": [
    "result_eval_ranker['reranked_rec'] = result_eval_ranker[USER_COL].apply(lambda user_id: rerank(user_id))"
   ]
  },
  {
   "cell_type": "code",
   "execution_count": 136,
   "metadata": {},
   "outputs": [
    {
     "name": "stdout",
     "output_type": "stream",
     "text": [
      "Precision@k on test dataset:\n",
      "('reranked_rec', 0.4136286201022153)\n",
      "('tfidf_rec', 0.38693923906871086)\n"
     ]
    }
   ],
   "source": [
    "print('Precision@k on test dataset:')\n",
    "print(*sorted(calc_precision(result_eval_ranker, TOPK_PRECISION), key=lambda x: x[1], reverse=True), sep='\\n')"
   ]
  },
  {
   "cell_type": "code",
   "execution_count": 137,
   "metadata": {},
   "outputs": [],
   "source": [
    "result_eval_ranker[['user_id', 'reranked_rec']].to_csv(os.path.join(PATH_DATA,'recommendations.csv'), index=False, encoding='utf-8', sep=',')"
   ]
  },
  {
   "cell_type": "code",
   "execution_count": null,
   "metadata": {},
   "outputs": [],
   "source": []
  }
 ],
 "metadata": {
  "kernelspec": {
   "display_name": "Python 3",
   "language": "python",
   "name": "python3"
  },
  "language_info": {
   "codemirror_mode": {
    "name": "ipython",
    "version": 3
   },
   "file_extension": ".py",
   "mimetype": "text/x-python",
   "name": "python",
   "nbconvert_exporter": "python",
   "pygments_lexer": "ipython3",
   "version": "3.7.9"
  }
 },
 "nbformat": 4,
 "nbformat_minor": 2
}
